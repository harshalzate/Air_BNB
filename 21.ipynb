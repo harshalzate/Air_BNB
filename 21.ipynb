{
  "nbformat": 4,
  "nbformat_minor": 0,
  "metadata": {
    "colab": {
      "private_outputs": true,
      "provenance": [],
      "authorship_tag": "ABX9TyMf7jRTY2yyc6Ixv0j2T3IB",
      "include_colab_link": true
    },
    "kernelspec": {
      "name": "python3",
      "display_name": "Python 3"
    },
    "language_info": {
      "name": "python"
    }
  },
  "cells": [
    {
      "cell_type": "markdown",
      "metadata": {
        "id": "view-in-github",
        "colab_type": "text"
      },
      "source": [
        "<a href=\"https://colab.research.google.com/github/harshalzate/Air_BNB/blob/main/21.ipynb\" target=\"_parent\"><img src=\"https://colab.research.google.com/assets/colab-badge.svg\" alt=\"Open In Colab\"/></a>"
      ]
    },
    {
      "cell_type": "code",
      "execution_count": null,
      "metadata": {
        "id": "CEal2rWMX6nE"
      },
      "outputs": [],
      "source": [
        "print('harshal')"
      ]
    },
    {
      "cell_type": "code",
      "source": [],
      "metadata": {
        "id": "1UV5_-OEX6nE"
      },
      "execution_count": null,
      "outputs": []
    },
    {
      "cell_type": "code",
      "execution_count": null,
      "metadata": {
        "id": "B2p4qULGX6nE"
      },
      "outputs": [],
      "source": [
        "print('harshal')"
      ]
    },
    {
      "cell_type": "code",
      "execution_count": null,
      "metadata": {
        "id": "H88nagGIX6nF"
      },
      "outputs": [],
      "source": [
        "print('harshal')"
      ]
    },
    {
      "cell_type": "code",
      "execution_count": null,
      "metadata": {
        "id": "LKCCl96JX6nF"
      },
      "outputs": [],
      "source": [
        "print('harshal')"
      ]
    },
    {
      "cell_type": "code",
      "execution_count": null,
      "metadata": {
        "id": "34QrHvnHX6nF"
      },
      "outputs": [],
      "source": [
        "print('harshal')"
      ]
    },
    {
      "cell_type": "code",
      "execution_count": null,
      "metadata": {
        "id": "gcgV7P5KX6nF"
      },
      "outputs": [],
      "source": [
        "print('harshal')"
      ]
    },
    {
      "cell_type": "code",
      "execution_count": null,
      "metadata": {
        "id": "o-S0N5VFX6nF"
      },
      "outputs": [],
      "source": [
        "print('harshal')"
      ]
    },
    {
      "cell_type": "code",
      "execution_count": null,
      "metadata": {
        "id": "rC0NFw_LX6nF"
      },
      "outputs": [],
      "source": [
        "print('harshal')"
      ]
    },
    {
      "cell_type": "code",
      "execution_count": null,
      "metadata": {
        "id": "9FOHYE-aX6nF"
      },
      "outputs": [],
      "source": [
        "print('harshal')"
      ]
    },
    {
      "cell_type": "code",
      "execution_count": null,
      "metadata": {
        "id": "RiaOufORXomG"
      },
      "outputs": [],
      "source": [
        "print('harshal')"
      ]
    },
    {
      "cell_type": "code",
      "source": [],
      "metadata": {
        "id": "aRmDKXttXqvo"
      },
      "execution_count": null,
      "outputs": []
    },
    {
      "cell_type": "code",
      "execution_count": null,
      "metadata": {
        "id": "l-Ycl9NuX0f-"
      },
      "outputs": [],
      "source": [
        "print('harshal')"
      ]
    },
    {
      "cell_type": "code",
      "execution_count": null,
      "metadata": {
        "id": "3UdMBDeFX0t_"
      },
      "outputs": [],
      "source": [
        "print('harshal')"
      ]
    },
    {
      "cell_type": "code",
      "execution_count": null,
      "metadata": {
        "id": "6lwXVJEeX01d"
      },
      "outputs": [],
      "source": [
        "print('harshal')"
      ]
    },
    {
      "cell_type": "code",
      "execution_count": null,
      "metadata": {
        "id": "d8DFsyLoX07n"
      },
      "outputs": [],
      "source": [
        "print('harshal')"
      ]
    },
    {
      "cell_type": "code",
      "execution_count": null,
      "metadata": {
        "id": "aHaFYZ3nX1BJ"
      },
      "outputs": [],
      "source": [
        "print('harshal')"
      ]
    },
    {
      "cell_type": "code",
      "execution_count": null,
      "metadata": {
        "id": "vlo6XsWQX1FP"
      },
      "outputs": [],
      "source": [
        "print('harshal')"
      ]
    },
    {
      "cell_type": "code",
      "execution_count": null,
      "metadata": {
        "id": "i2ZE22jPX1IT"
      },
      "outputs": [],
      "source": [
        "print('harshal')"
      ]
    },
    {
      "cell_type": "code",
      "execution_count": null,
      "metadata": {
        "id": "GNDFqAn4X1LL"
      },
      "outputs": [],
      "source": [
        "print('harshal')"
      ]
    },
    {
      "cell_type": "code",
      "execution_count": null,
      "metadata": {
        "id": "OWwvdNyWX1N4"
      },
      "outputs": [],
      "source": [
        "print('harshal')"
      ]
    },
    {
      "cell_type": "code",
      "execution_count": null,
      "metadata": {
        "id": "JJ1aaM85X1Qz"
      },
      "outputs": [],
      "source": [
        "print('harshal')"
      ]
    },
    {
      "cell_type": "code",
      "execution_count": null,
      "metadata": {
        "id": "rF_uwng-X1Th"
      },
      "outputs": [],
      "source": [
        "print('harshal')"
      ]
    },
    {
      "cell_type": "code",
      "execution_count": null,
      "metadata": {
        "id": "A77TGaO2X1WN"
      },
      "outputs": [],
      "source": [
        "print('harshal')"
      ]
    },
    {
      "cell_type": "code",
      "execution_count": null,
      "metadata": {
        "id": "HqB_HmDcX_8M"
      },
      "outputs": [],
      "source": [
        "print('harshal')"
      ]
    },
    {
      "cell_type": "code",
      "source": [],
      "metadata": {
        "id": "8VUXKda3X_8V"
      },
      "execution_count": null,
      "outputs": []
    },
    {
      "cell_type": "code",
      "execution_count": null,
      "metadata": {
        "id": "eezGmgfjX_8W"
      },
      "outputs": [],
      "source": [
        "print('harshal')"
      ]
    },
    {
      "cell_type": "code",
      "execution_count": null,
      "metadata": {
        "id": "3wB9A242X_8W"
      },
      "outputs": [],
      "source": [
        "print('harshal')"
      ]
    },
    {
      "cell_type": "code",
      "execution_count": null,
      "metadata": {
        "id": "9AdvBc-kX_8W"
      },
      "outputs": [],
      "source": [
        "print('harshal')"
      ]
    },
    {
      "cell_type": "code",
      "execution_count": null,
      "metadata": {
        "id": "9oJjYIoHX_8W"
      },
      "outputs": [],
      "source": [
        "print('harshal')"
      ]
    },
    {
      "cell_type": "code",
      "execution_count": null,
      "metadata": {
        "id": "4f2cA_IpX_8W"
      },
      "outputs": [],
      "source": [
        "print('harshal')"
      ]
    },
    {
      "cell_type": "code",
      "execution_count": null,
      "metadata": {
        "id": "mWAT-x-5X_8W"
      },
      "outputs": [],
      "source": [
        "print('harshal')"
      ]
    },
    {
      "cell_type": "code",
      "execution_count": null,
      "metadata": {
        "id": "6Kur2PYZX_8W"
      },
      "outputs": [],
      "source": [
        "print('harshal')"
      ]
    },
    {
      "cell_type": "code",
      "execution_count": null,
      "metadata": {
        "id": "pFcrwBbeX_8W"
      },
      "outputs": [],
      "source": [
        "print('harshal')"
      ]
    },
    {
      "cell_type": "code",
      "execution_count": null,
      "metadata": {
        "id": "CEIFwaReX_8X"
      },
      "outputs": [],
      "source": [
        "print('harshal')"
      ]
    },
    {
      "cell_type": "code",
      "source": [],
      "metadata": {
        "id": "T_X2pjWAX_8X"
      },
      "execution_count": null,
      "outputs": []
    },
    {
      "cell_type": "code",
      "execution_count": null,
      "metadata": {
        "id": "WDaFcjI0X_8X"
      },
      "outputs": [],
      "source": [
        "print('harshal')"
      ]
    },
    {
      "cell_type": "code",
      "execution_count": null,
      "metadata": {
        "id": "C5RoQtD6X_8X"
      },
      "outputs": [],
      "source": [
        "print('harshal')"
      ]
    },
    {
      "cell_type": "code",
      "execution_count": null,
      "metadata": {
        "id": "r4bV4T1rX_8X"
      },
      "outputs": [],
      "source": [
        "print('harshal')"
      ]
    },
    {
      "cell_type": "code",
      "execution_count": null,
      "metadata": {
        "id": "K0COfY01X_8Y"
      },
      "outputs": [],
      "source": [
        "print('harshal')"
      ]
    },
    {
      "cell_type": "code",
      "execution_count": null,
      "metadata": {
        "id": "M2qHPXyHX_8Y"
      },
      "outputs": [],
      "source": [
        "print('harshal')"
      ]
    },
    {
      "cell_type": "code",
      "execution_count": null,
      "metadata": {
        "id": "zSY4UQVcX_8Y"
      },
      "outputs": [],
      "source": [
        "print('harshal')"
      ]
    },
    {
      "cell_type": "code",
      "execution_count": null,
      "metadata": {
        "id": "i2K2NBGiX_8Z"
      },
      "outputs": [],
      "source": [
        "print('harshal')"
      ]
    },
    {
      "cell_type": "code",
      "execution_count": null,
      "metadata": {
        "id": "ZR9BdOHyX_8Z"
      },
      "outputs": [],
      "source": [
        "print('harshal')"
      ]
    },
    {
      "cell_type": "code",
      "execution_count": null,
      "metadata": {
        "id": "68e3M1zkX_8Z"
      },
      "outputs": [],
      "source": [
        "print('harshal')"
      ]
    },
    {
      "cell_type": "code",
      "execution_count": null,
      "metadata": {
        "id": "weSI286iX_8Z"
      },
      "outputs": [],
      "source": [
        "print('harshal')"
      ]
    },
    {
      "cell_type": "code",
      "execution_count": null,
      "metadata": {
        "id": "Mc4ARtRuX_8a"
      },
      "outputs": [],
      "source": [
        "print('harshal')"
      ]
    },
    {
      "cell_type": "code",
      "execution_count": null,
      "metadata": {
        "id": "iuQSSlwYX_8a"
      },
      "outputs": [],
      "source": [
        "print('harshal')"
      ]
    },
    {
      "cell_type": "code",
      "execution_count": null,
      "metadata": {
        "id": "l34APc0OYADr"
      },
      "outputs": [],
      "source": [
        "print('harshal')"
      ]
    },
    {
      "cell_type": "code",
      "source": [],
      "metadata": {
        "id": "bBNA3vO1YADs"
      },
      "execution_count": null,
      "outputs": []
    },
    {
      "cell_type": "code",
      "execution_count": null,
      "metadata": {
        "id": "kaouRNOFYADs"
      },
      "outputs": [],
      "source": [
        "print('harshal')"
      ]
    },
    {
      "cell_type": "code",
      "execution_count": null,
      "metadata": {
        "id": "Ntw_PGAzYADs"
      },
      "outputs": [],
      "source": [
        "print('harshal')"
      ]
    },
    {
      "cell_type": "code",
      "execution_count": null,
      "metadata": {
        "id": "Vk6cb_VqYADs"
      },
      "outputs": [],
      "source": [
        "print('harshal')"
      ]
    },
    {
      "cell_type": "code",
      "execution_count": null,
      "metadata": {
        "id": "sd49Cz_gYADt"
      },
      "outputs": [],
      "source": [
        "print('harshal')"
      ]
    },
    {
      "cell_type": "code",
      "execution_count": null,
      "metadata": {
        "id": "pHuOktwNYADt"
      },
      "outputs": [],
      "source": [
        "print('harshal')"
      ]
    },
    {
      "cell_type": "code",
      "execution_count": null,
      "metadata": {
        "id": "IbW7ejNjYADt"
      },
      "outputs": [],
      "source": [
        "print('harshal')"
      ]
    },
    {
      "cell_type": "code",
      "execution_count": null,
      "metadata": {
        "id": "RxaQmX5xYADt"
      },
      "outputs": [],
      "source": [
        "print('harshal')"
      ]
    },
    {
      "cell_type": "code",
      "execution_count": null,
      "metadata": {
        "id": "DS7ZqabeYADt"
      },
      "outputs": [],
      "source": [
        "print('harshal')"
      ]
    },
    {
      "cell_type": "code",
      "execution_count": null,
      "metadata": {
        "id": "eLkv7tj3YADt"
      },
      "outputs": [],
      "source": [
        "print('harshal')"
      ]
    },
    {
      "cell_type": "code",
      "source": [],
      "metadata": {
        "id": "7V-0XVG-YADu"
      },
      "execution_count": null,
      "outputs": []
    },
    {
      "cell_type": "code",
      "execution_count": null,
      "metadata": {
        "id": "m-0WbN5-YADu"
      },
      "outputs": [],
      "source": [
        "print('harshal')"
      ]
    },
    {
      "cell_type": "code",
      "execution_count": null,
      "metadata": {
        "id": "2Cc5hU85YADu"
      },
      "outputs": [],
      "source": [
        "print('harshal')"
      ]
    },
    {
      "cell_type": "code",
      "execution_count": null,
      "metadata": {
        "id": "jHXySx-wYADu"
      },
      "outputs": [],
      "source": [
        "print('harshal')"
      ]
    },
    {
      "cell_type": "code",
      "execution_count": null,
      "metadata": {
        "id": "kDBf1zHXYADu"
      },
      "outputs": [],
      "source": [
        "print('harshal')"
      ]
    },
    {
      "cell_type": "code",
      "execution_count": null,
      "metadata": {
        "id": "Tyjhi1tnYADv"
      },
      "outputs": [],
      "source": [
        "print('harshal')"
      ]
    },
    {
      "cell_type": "code",
      "execution_count": null,
      "metadata": {
        "id": "D8rnSQiOYADv"
      },
      "outputs": [],
      "source": [
        "print('harshal')"
      ]
    },
    {
      "cell_type": "code",
      "execution_count": null,
      "metadata": {
        "id": "vtDEHp-7YADv"
      },
      "outputs": [],
      "source": [
        "print('harshal')"
      ]
    },
    {
      "cell_type": "code",
      "execution_count": null,
      "metadata": {
        "id": "y9ETcxFcYADv"
      },
      "outputs": [],
      "source": [
        "print('harshal')"
      ]
    },
    {
      "cell_type": "code",
      "execution_count": null,
      "metadata": {
        "id": "w82FDxvVYADv"
      },
      "outputs": [],
      "source": [
        "print('harshal')"
      ]
    },
    {
      "cell_type": "code",
      "execution_count": null,
      "metadata": {
        "id": "tS0THrwOYADw"
      },
      "outputs": [],
      "source": [
        "print('harshal')"
      ]
    },
    {
      "cell_type": "code",
      "execution_count": null,
      "metadata": {
        "id": "TSmeAyz4YADw"
      },
      "outputs": [],
      "source": [
        "print('harshal')"
      ]
    },
    {
      "cell_type": "code",
      "execution_count": null,
      "metadata": {
        "id": "unWJcqr2YADw"
      },
      "outputs": [],
      "source": [
        "print('harshal')"
      ]
    },
    {
      "cell_type": "code",
      "execution_count": null,
      "metadata": {
        "id": "SwP4Aa_BYAO9"
      },
      "outputs": [],
      "source": [
        "print('harshal')"
      ]
    },
    {
      "cell_type": "code",
      "source": [],
      "metadata": {
        "id": "tzP3hN7kYAO9"
      },
      "execution_count": null,
      "outputs": []
    },
    {
      "cell_type": "code",
      "execution_count": null,
      "metadata": {
        "id": "NOWraFCiYAO9"
      },
      "outputs": [],
      "source": [
        "print('harshal')"
      ]
    },
    {
      "cell_type": "code",
      "execution_count": null,
      "metadata": {
        "id": "Wik_DhumYAO9"
      },
      "outputs": [],
      "source": [
        "print('harshal')"
      ]
    },
    {
      "cell_type": "code",
      "execution_count": null,
      "metadata": {
        "id": "SIxxSIojYAO-"
      },
      "outputs": [],
      "source": [
        "print('harshal')"
      ]
    },
    {
      "cell_type": "code",
      "execution_count": null,
      "metadata": {
        "id": "GtwJ0nr0YAO-"
      },
      "outputs": [],
      "source": [
        "print('harshal')"
      ]
    },
    {
      "cell_type": "code",
      "execution_count": null,
      "metadata": {
        "id": "Fnpz8Q0iYAO-"
      },
      "outputs": [],
      "source": [
        "print('harshal')"
      ]
    },
    {
      "cell_type": "code",
      "execution_count": null,
      "metadata": {
        "id": "hQ-cBStgYAO-"
      },
      "outputs": [],
      "source": [
        "print('harshal')"
      ]
    },
    {
      "cell_type": "code",
      "execution_count": null,
      "metadata": {
        "id": "0Eky-JJiYAO-"
      },
      "outputs": [],
      "source": [
        "print('harshal')"
      ]
    },
    {
      "cell_type": "code",
      "execution_count": null,
      "metadata": {
        "id": "pfRVYDjMYAO_"
      },
      "outputs": [],
      "source": [
        "print('harshal')"
      ]
    },
    {
      "cell_type": "code",
      "execution_count": null,
      "metadata": {
        "id": "dQ6BFSaAYAO_"
      },
      "outputs": [],
      "source": [
        "print('harshal')"
      ]
    },
    {
      "cell_type": "code",
      "source": [],
      "metadata": {
        "id": "eI_yM5ZgYAO_"
      },
      "execution_count": null,
      "outputs": []
    },
    {
      "cell_type": "code",
      "execution_count": null,
      "metadata": {
        "id": "y2aGGT-FYAO_"
      },
      "outputs": [],
      "source": [
        "print('harshal')"
      ]
    },
    {
      "cell_type": "code",
      "execution_count": null,
      "metadata": {
        "id": "66bcQdV3YAO_"
      },
      "outputs": [],
      "source": [
        "print('harshal')"
      ]
    },
    {
      "cell_type": "code",
      "execution_count": null,
      "metadata": {
        "id": "VNohtL7dYAO_"
      },
      "outputs": [],
      "source": [
        "print('harshal')"
      ]
    },
    {
      "cell_type": "code",
      "execution_count": null,
      "metadata": {
        "id": "9QYOxSyQYAPA"
      },
      "outputs": [],
      "source": [
        "print('harshal')"
      ]
    },
    {
      "cell_type": "code",
      "execution_count": null,
      "metadata": {
        "id": "PFkZf1kWYAPA"
      },
      "outputs": [],
      "source": [
        "print('harshal')"
      ]
    },
    {
      "cell_type": "code",
      "execution_count": null,
      "metadata": {
        "id": "KmfocraHYAPA"
      },
      "outputs": [],
      "source": [
        "print('harshal')"
      ]
    },
    {
      "cell_type": "code",
      "execution_count": null,
      "metadata": {
        "id": "l-OGWiqHYAPA"
      },
      "outputs": [],
      "source": [
        "print('harshal')"
      ]
    },
    {
      "cell_type": "code",
      "execution_count": null,
      "metadata": {
        "id": "-0pEQnGiYAPA"
      },
      "outputs": [],
      "source": [
        "print('harshal')"
      ]
    },
    {
      "cell_type": "code",
      "execution_count": null,
      "metadata": {
        "id": "oa8pcgUhYAPA"
      },
      "outputs": [],
      "source": [
        "print('harshal')"
      ]
    },
    {
      "cell_type": "code",
      "execution_count": null,
      "metadata": {
        "id": "18u-gjhtYAPB"
      },
      "outputs": [],
      "source": [
        "print('harshal')"
      ]
    },
    {
      "cell_type": "code",
      "execution_count": null,
      "metadata": {
        "id": "0rsSCrFnYAPB"
      },
      "outputs": [],
      "source": [
        "print('harshal')"
      ]
    },
    {
      "cell_type": "code",
      "execution_count": null,
      "metadata": {
        "id": "S_D07K90YAPB"
      },
      "outputs": [],
      "source": [
        "print('harshal')"
      ]
    },
    {
      "cell_type": "code",
      "execution_count": null,
      "metadata": {
        "id": "MIc5Z9K3YAQu"
      },
      "outputs": [],
      "source": [
        "print('harshal')"
      ]
    },
    {
      "cell_type": "code",
      "source": [],
      "metadata": {
        "id": "B2vqPGtXYAQu"
      },
      "execution_count": null,
      "outputs": []
    },
    {
      "cell_type": "code",
      "execution_count": null,
      "metadata": {
        "id": "OEJjOCcCYAQv"
      },
      "outputs": [],
      "source": [
        "print('harshal')"
      ]
    },
    {
      "cell_type": "code",
      "execution_count": null,
      "metadata": {
        "id": "nADzTR2dYAQv"
      },
      "outputs": [],
      "source": [
        "print('harshal')"
      ]
    },
    {
      "cell_type": "code",
      "execution_count": null,
      "metadata": {
        "id": "-dNxb39gYAQv"
      },
      "outputs": [],
      "source": [
        "print('harshal')"
      ]
    },
    {
      "cell_type": "code",
      "execution_count": null,
      "metadata": {
        "id": "iZFmguHGYAQv"
      },
      "outputs": [],
      "source": [
        "print('harshal')"
      ]
    },
    {
      "cell_type": "code",
      "execution_count": null,
      "metadata": {
        "id": "RuYzDqHrYAQv"
      },
      "outputs": [],
      "source": [
        "print('harshal')"
      ]
    },
    {
      "cell_type": "code",
      "execution_count": null,
      "metadata": {
        "id": "AWzAdb5ZYAQw"
      },
      "outputs": [],
      "source": [
        "print('harshal')"
      ]
    },
    {
      "cell_type": "code",
      "execution_count": null,
      "metadata": {
        "id": "UiHZEt8DYAQw"
      },
      "outputs": [],
      "source": [
        "print('harshal')"
      ]
    },
    {
      "cell_type": "code",
      "execution_count": null,
      "metadata": {
        "id": "XErbXkTYYAQw"
      },
      "outputs": [],
      "source": [
        "print('harshal')"
      ]
    },
    {
      "cell_type": "code",
      "execution_count": null,
      "metadata": {
        "id": "k6HDK0TEYAQw"
      },
      "outputs": [],
      "source": [
        "print('harshal')"
      ]
    },
    {
      "cell_type": "code",
      "source": [],
      "metadata": {
        "id": "rV46Et5YYAQw"
      },
      "execution_count": null,
      "outputs": []
    },
    {
      "cell_type": "code",
      "execution_count": null,
      "metadata": {
        "id": "M6tCqxvuYAQw"
      },
      "outputs": [],
      "source": [
        "print('harshal')"
      ]
    },
    {
      "cell_type": "code",
      "execution_count": null,
      "metadata": {
        "id": "ANVRzvcxYAQw"
      },
      "outputs": [],
      "source": [
        "print('harshal')"
      ]
    },
    {
      "cell_type": "code",
      "execution_count": null,
      "metadata": {
        "id": "9ARipru9YAQx"
      },
      "outputs": [],
      "source": [
        "print('harshal')"
      ]
    },
    {
      "cell_type": "code",
      "execution_count": null,
      "metadata": {
        "id": "Vs3NgMM3YAQx"
      },
      "outputs": [],
      "source": [
        "print('harshal')"
      ]
    },
    {
      "cell_type": "code",
      "execution_count": null,
      "metadata": {
        "id": "XH875CobYAQx"
      },
      "outputs": [],
      "source": [
        "print('harshal')"
      ]
    },
    {
      "cell_type": "code",
      "execution_count": null,
      "metadata": {
        "id": "2JFuAeZKYAQx"
      },
      "outputs": [],
      "source": [
        "print('harshal')"
      ]
    },
    {
      "cell_type": "code",
      "execution_count": null,
      "metadata": {
        "id": "zV2edqU9YAQx"
      },
      "outputs": [],
      "source": [
        "print('harshal')"
      ]
    },
    {
      "cell_type": "code",
      "execution_count": null,
      "metadata": {
        "id": "WaWPP-wXYAQx"
      },
      "outputs": [],
      "source": [
        "print('harshal')"
      ]
    },
    {
      "cell_type": "code",
      "execution_count": null,
      "metadata": {
        "id": "XFkPRi3vYAQy"
      },
      "outputs": [],
      "source": [
        "print('harshal')"
      ]
    },
    {
      "cell_type": "code",
      "execution_count": null,
      "metadata": {
        "id": "TQL60tALYAQy"
      },
      "outputs": [],
      "source": [
        "print('harshal')"
      ]
    },
    {
      "cell_type": "code",
      "execution_count": null,
      "metadata": {
        "id": "VutaSBBwYAQy"
      },
      "outputs": [],
      "source": [
        "print('harshal')"
      ]
    },
    {
      "cell_type": "code",
      "execution_count": null,
      "metadata": {
        "id": "JE2CxmOGYAQy"
      },
      "outputs": [],
      "source": [
        "print('harshal')"
      ]
    },
    {
      "cell_type": "code",
      "execution_count": null,
      "metadata": {
        "id": "y0nzAxMYYAZ6"
      },
      "outputs": [],
      "source": [
        "print('harshal')"
      ]
    },
    {
      "cell_type": "code",
      "source": [],
      "metadata": {
        "id": "RUu4fiwcYAZ6"
      },
      "execution_count": null,
      "outputs": []
    },
    {
      "cell_type": "code",
      "execution_count": null,
      "metadata": {
        "id": "mhkrdY6jYAZ6"
      },
      "outputs": [],
      "source": [
        "print('harshal')"
      ]
    },
    {
      "cell_type": "code",
      "execution_count": null,
      "metadata": {
        "id": "sQi2wLNBYAZ7"
      },
      "outputs": [],
      "source": [
        "print('harshal')"
      ]
    },
    {
      "cell_type": "code",
      "execution_count": null,
      "metadata": {
        "id": "vB0bzVH0YAZ7"
      },
      "outputs": [],
      "source": [
        "print('harshal')"
      ]
    },
    {
      "cell_type": "code",
      "execution_count": null,
      "metadata": {
        "id": "hWeuFfOgYAZ7"
      },
      "outputs": [],
      "source": [
        "print('harshal')"
      ]
    },
    {
      "cell_type": "code",
      "execution_count": null,
      "metadata": {
        "id": "LgwrINKCYAZ7"
      },
      "outputs": [],
      "source": [
        "print('harshal')"
      ]
    },
    {
      "cell_type": "code",
      "execution_count": null,
      "metadata": {
        "id": "rnS6IBvTYAZ7"
      },
      "outputs": [],
      "source": [
        "print('harshal')"
      ]
    },
    {
      "cell_type": "code",
      "execution_count": null,
      "metadata": {
        "id": "oDqpfXswYAZ7"
      },
      "outputs": [],
      "source": [
        "print('harshal')"
      ]
    },
    {
      "cell_type": "code",
      "execution_count": null,
      "metadata": {
        "id": "GsjmfOPWYAZ8"
      },
      "outputs": [],
      "source": [
        "print('harshal')"
      ]
    },
    {
      "cell_type": "code",
      "execution_count": null,
      "metadata": {
        "id": "ud1MqwBXYAZ8"
      },
      "outputs": [],
      "source": [
        "print('harshal')"
      ]
    },
    {
      "cell_type": "code",
      "source": [],
      "metadata": {
        "id": "URCbow-EYAZ8"
      },
      "execution_count": null,
      "outputs": []
    },
    {
      "cell_type": "code",
      "execution_count": null,
      "metadata": {
        "id": "7IY2lW_qYAZ8"
      },
      "outputs": [],
      "source": [
        "print('harshal')"
      ]
    },
    {
      "cell_type": "code",
      "execution_count": null,
      "metadata": {
        "id": "Bcqhef_tYAZ8"
      },
      "outputs": [],
      "source": [
        "print('harshal')"
      ]
    },
    {
      "cell_type": "code",
      "execution_count": null,
      "metadata": {
        "id": "jDCIRL0eYAZ8"
      },
      "outputs": [],
      "source": [
        "print('harshal')"
      ]
    },
    {
      "cell_type": "code",
      "execution_count": null,
      "metadata": {
        "id": "jZP7XY48YAZ8"
      },
      "outputs": [],
      "source": [
        "print('harshal')"
      ]
    },
    {
      "cell_type": "code",
      "execution_count": null,
      "metadata": {
        "id": "20-tXuWAYAZ9"
      },
      "outputs": [],
      "source": [
        "print('harshal')"
      ]
    },
    {
      "cell_type": "code",
      "execution_count": null,
      "metadata": {
        "id": "zgd0Xu1TYAZ9"
      },
      "outputs": [],
      "source": [
        "print('harshal')"
      ]
    },
    {
      "cell_type": "code",
      "execution_count": null,
      "metadata": {
        "id": "cIITNjG2YAZ9"
      },
      "outputs": [],
      "source": [
        "print('harshal')"
      ]
    },
    {
      "cell_type": "code",
      "execution_count": null,
      "metadata": {
        "id": "Z6iL0evpYAZ9"
      },
      "outputs": [],
      "source": [
        "print('harshal')"
      ]
    },
    {
      "cell_type": "code",
      "execution_count": null,
      "metadata": {
        "id": "3fBFCy5xYAZ9"
      },
      "outputs": [],
      "source": [
        "print('harshal')"
      ]
    },
    {
      "cell_type": "code",
      "execution_count": null,
      "metadata": {
        "id": "VXAzVa5zYAZ9"
      },
      "outputs": [],
      "source": [
        "print('harshal')"
      ]
    },
    {
      "cell_type": "code",
      "execution_count": null,
      "metadata": {
        "id": "T-9lDk6UYAZ-"
      },
      "outputs": [],
      "source": [
        "print('harshal')"
      ]
    },
    {
      "cell_type": "code",
      "execution_count": null,
      "metadata": {
        "id": "G3xxLu7BYAZ-"
      },
      "outputs": [],
      "source": [
        "print('harshal')"
      ]
    },
    {
      "cell_type": "code",
      "execution_count": null,
      "metadata": {
        "id": "8Z12zp_gYAb1"
      },
      "outputs": [],
      "source": [
        "print('harshal')"
      ]
    },
    {
      "cell_type": "code",
      "source": [],
      "metadata": {
        "id": "fbEX_uspYAb1"
      },
      "execution_count": null,
      "outputs": []
    },
    {
      "cell_type": "code",
      "execution_count": null,
      "metadata": {
        "id": "PlwlEFMJYAb2"
      },
      "outputs": [],
      "source": [
        "print('harshal')"
      ]
    },
    {
      "cell_type": "code",
      "execution_count": null,
      "metadata": {
        "id": "ChMl-OUbYAb2"
      },
      "outputs": [],
      "source": [
        "print('harshal')"
      ]
    },
    {
      "cell_type": "code",
      "execution_count": null,
      "metadata": {
        "id": "jMCKijLhYAb2"
      },
      "outputs": [],
      "source": [
        "print('harshal')"
      ]
    },
    {
      "cell_type": "code",
      "execution_count": null,
      "metadata": {
        "id": "FPfsDQP0YAb2"
      },
      "outputs": [],
      "source": [
        "print('harshal')"
      ]
    },
    {
      "cell_type": "code",
      "execution_count": null,
      "metadata": {
        "id": "bMLiLpsIYAb2"
      },
      "outputs": [],
      "source": [
        "print('harshal')"
      ]
    },
    {
      "cell_type": "code",
      "execution_count": null,
      "metadata": {
        "id": "h2Olp_xZYAb2"
      },
      "outputs": [],
      "source": [
        "print('harshal')"
      ]
    },
    {
      "cell_type": "code",
      "execution_count": null,
      "metadata": {
        "id": "PrlxJMH8YAb3"
      },
      "outputs": [],
      "source": [
        "print('harshal')"
      ]
    },
    {
      "cell_type": "code",
      "execution_count": null,
      "metadata": {
        "id": "ak4hR8fdYAb3"
      },
      "outputs": [],
      "source": [
        "print('harshal')"
      ]
    },
    {
      "cell_type": "code",
      "execution_count": null,
      "metadata": {
        "id": "RjES4wn1YAb3"
      },
      "outputs": [],
      "source": [
        "print('harshal')"
      ]
    },
    {
      "cell_type": "code",
      "source": [],
      "metadata": {
        "id": "IYsB7BZ9YAb3"
      },
      "execution_count": null,
      "outputs": []
    },
    {
      "cell_type": "code",
      "execution_count": null,
      "metadata": {
        "id": "LSiVb3EMYAb3"
      },
      "outputs": [],
      "source": [
        "print('harshal')"
      ]
    },
    {
      "cell_type": "code",
      "execution_count": null,
      "metadata": {
        "id": "z6NuXzBaYAb3"
      },
      "outputs": [],
      "source": [
        "print('harshal')"
      ]
    },
    {
      "cell_type": "code",
      "execution_count": null,
      "metadata": {
        "id": "mXYaZa-9YAb3"
      },
      "outputs": [],
      "source": [
        "print('harshal')"
      ]
    },
    {
      "cell_type": "code",
      "execution_count": null,
      "metadata": {
        "id": "cjn5Z-q7YAb3"
      },
      "outputs": [],
      "source": [
        "print('harshal')"
      ]
    },
    {
      "cell_type": "code",
      "execution_count": null,
      "metadata": {
        "id": "pmHh1z0pYAb4"
      },
      "outputs": [],
      "source": [
        "print('harshal')"
      ]
    },
    {
      "cell_type": "code",
      "execution_count": null,
      "metadata": {
        "id": "HxBT-51hYAb4"
      },
      "outputs": [],
      "source": [
        "print('harshal')"
      ]
    },
    {
      "cell_type": "code",
      "execution_count": null,
      "metadata": {
        "id": "DJHYOquFYAb4"
      },
      "outputs": [],
      "source": [
        "print('harshal')"
      ]
    },
    {
      "cell_type": "code",
      "execution_count": null,
      "metadata": {
        "id": "fRgde_jSYAb4"
      },
      "outputs": [],
      "source": [
        "print('harshal')"
      ]
    },
    {
      "cell_type": "code",
      "execution_count": null,
      "metadata": {
        "id": "i269Bk0YYAb4"
      },
      "outputs": [],
      "source": [
        "print('harshal')"
      ]
    },
    {
      "cell_type": "code",
      "execution_count": null,
      "metadata": {
        "id": "U2gZJnWxYAb4"
      },
      "outputs": [],
      "source": [
        "print('harshal')"
      ]
    },
    {
      "cell_type": "code",
      "execution_count": null,
      "metadata": {
        "id": "qNnUEfKpYAb4"
      },
      "outputs": [],
      "source": [
        "print('harshal')"
      ]
    },
    {
      "cell_type": "code",
      "execution_count": null,
      "metadata": {
        "id": "tfEdQ7CZYAb5"
      },
      "outputs": [],
      "source": [
        "print('harshal')"
      ]
    },
    {
      "cell_type": "code",
      "execution_count": null,
      "metadata": {
        "id": "hCJ8fzumYAeF"
      },
      "outputs": [],
      "source": [
        "print('harshal')"
      ]
    },
    {
      "cell_type": "code",
      "source": [],
      "metadata": {
        "id": "F2BdLSpeYAeG"
      },
      "execution_count": null,
      "outputs": []
    },
    {
      "cell_type": "code",
      "execution_count": null,
      "metadata": {
        "id": "mKYS-GMuYAeG"
      },
      "outputs": [],
      "source": [
        "print('harshal')"
      ]
    },
    {
      "cell_type": "code",
      "execution_count": null,
      "metadata": {
        "id": "B0rC6jjNYAeG"
      },
      "outputs": [],
      "source": [
        "print('harshal')"
      ]
    },
    {
      "cell_type": "code",
      "execution_count": null,
      "metadata": {
        "id": "NWGe-pSaYAeG"
      },
      "outputs": [],
      "source": [
        "print('harshal')"
      ]
    },
    {
      "cell_type": "code",
      "execution_count": null,
      "metadata": {
        "id": "ix8pFPX9YAeG"
      },
      "outputs": [],
      "source": [
        "print('harshal')"
      ]
    },
    {
      "cell_type": "code",
      "execution_count": null,
      "metadata": {
        "id": "3wCXh8XxYAeH"
      },
      "outputs": [],
      "source": [
        "print('harshal')"
      ]
    },
    {
      "cell_type": "code",
      "execution_count": null,
      "metadata": {
        "id": "CxieHRl-YAeH"
      },
      "outputs": [],
      "source": [
        "print('harshal')"
      ]
    },
    {
      "cell_type": "code",
      "execution_count": null,
      "metadata": {
        "id": "ZW7STCWRYAeH"
      },
      "outputs": [],
      "source": [
        "print('harshal')"
      ]
    },
    {
      "cell_type": "code",
      "execution_count": null,
      "metadata": {
        "id": "V9IRthPZYAeH"
      },
      "outputs": [],
      "source": [
        "print('harshal')"
      ]
    },
    {
      "cell_type": "code",
      "execution_count": null,
      "metadata": {
        "id": "z6b2iUb4YAeH"
      },
      "outputs": [],
      "source": [
        "print('harshal')"
      ]
    },
    {
      "cell_type": "code",
      "source": [],
      "metadata": {
        "id": "GC5JE1dlYAeH"
      },
      "execution_count": null,
      "outputs": []
    },
    {
      "cell_type": "code",
      "execution_count": null,
      "metadata": {
        "id": "KMr7MgqkYAeH"
      },
      "outputs": [],
      "source": [
        "print('harshal')"
      ]
    },
    {
      "cell_type": "code",
      "execution_count": null,
      "metadata": {
        "id": "5kb8HZB3YAeH"
      },
      "outputs": [],
      "source": [
        "print('harshal')"
      ]
    },
    {
      "cell_type": "code",
      "execution_count": null,
      "metadata": {
        "id": "DbuCiEnIYAeI"
      },
      "outputs": [],
      "source": [
        "print('harshal')"
      ]
    },
    {
      "cell_type": "code",
      "execution_count": null,
      "metadata": {
        "id": "gBHC1zVLYAeI"
      },
      "outputs": [],
      "source": [
        "print('harshal')"
      ]
    },
    {
      "cell_type": "code",
      "execution_count": null,
      "metadata": {
        "id": "6MGjRrrfYAeI"
      },
      "outputs": [],
      "source": [
        "print('harshal')"
      ]
    },
    {
      "cell_type": "code",
      "execution_count": null,
      "metadata": {
        "id": "XM57cAI3YAeI"
      },
      "outputs": [],
      "source": [
        "print('harshal')"
      ]
    },
    {
      "cell_type": "code",
      "execution_count": null,
      "metadata": {
        "id": "TMaWL_voYAeI"
      },
      "outputs": [],
      "source": [
        "print('harshal')"
      ]
    },
    {
      "cell_type": "code",
      "execution_count": null,
      "metadata": {
        "id": "QviPSUOLYAeI"
      },
      "outputs": [],
      "source": [
        "print('harshal')"
      ]
    },
    {
      "cell_type": "code",
      "execution_count": null,
      "metadata": {
        "id": "Htg_Rh_MYAeI"
      },
      "outputs": [],
      "source": [
        "print('harshal')"
      ]
    },
    {
      "cell_type": "code",
      "execution_count": null,
      "metadata": {
        "id": "3zCSELKIYAeI"
      },
      "outputs": [],
      "source": [
        "print('harshal')"
      ]
    },
    {
      "cell_type": "code",
      "execution_count": null,
      "metadata": {
        "id": "62wHWIAGYAeI"
      },
      "outputs": [],
      "source": [
        "print('harshal')"
      ]
    },
    {
      "cell_type": "code",
      "execution_count": null,
      "metadata": {
        "id": "_Yuju8gVYAeJ"
      },
      "outputs": [],
      "source": [
        "print('harshal')"
      ]
    },
    {
      "cell_type": "code",
      "execution_count": null,
      "metadata": {
        "id": "CEB0qTo5YAgm"
      },
      "outputs": [],
      "source": [
        "print('harshal')"
      ]
    },
    {
      "cell_type": "code",
      "source": [],
      "metadata": {
        "id": "9uaX-B3mYAgm"
      },
      "execution_count": null,
      "outputs": []
    },
    {
      "cell_type": "code",
      "execution_count": null,
      "metadata": {
        "id": "pioaFti4YAgm"
      },
      "outputs": [],
      "source": [
        "print('harshal')"
      ]
    },
    {
      "cell_type": "code",
      "execution_count": null,
      "metadata": {
        "id": "27XfukZIYAgm"
      },
      "outputs": [],
      "source": [
        "print('harshal')"
      ]
    },
    {
      "cell_type": "code",
      "execution_count": null,
      "metadata": {
        "id": "eYlcYLOPYAgm"
      },
      "outputs": [],
      "source": [
        "print('harshal')"
      ]
    },
    {
      "cell_type": "code",
      "execution_count": null,
      "metadata": {
        "id": "Zi4wIl2MYAgm"
      },
      "outputs": [],
      "source": [
        "print('harshal')"
      ]
    },
    {
      "cell_type": "code",
      "execution_count": null,
      "metadata": {
        "id": "guSrnz5NYAgn"
      },
      "outputs": [],
      "source": [
        "print('harshal')"
      ]
    },
    {
      "cell_type": "code",
      "execution_count": null,
      "metadata": {
        "id": "dxFbLDKeYAgn"
      },
      "outputs": [],
      "source": [
        "print('harshal')"
      ]
    },
    {
      "cell_type": "code",
      "execution_count": null,
      "metadata": {
        "id": "o105w25RYAgn"
      },
      "outputs": [],
      "source": [
        "print('harshal')"
      ]
    },
    {
      "cell_type": "code",
      "execution_count": null,
      "metadata": {
        "id": "WTumZbfnYAgn"
      },
      "outputs": [],
      "source": [
        "print('harshal')"
      ]
    },
    {
      "cell_type": "code",
      "execution_count": null,
      "metadata": {
        "id": "DaDvzyL5YAgo"
      },
      "outputs": [],
      "source": [
        "print('harshal')"
      ]
    },
    {
      "cell_type": "code",
      "source": [],
      "metadata": {
        "id": "aLA93_bcYAgo"
      },
      "execution_count": null,
      "outputs": []
    },
    {
      "cell_type": "code",
      "execution_count": null,
      "metadata": {
        "id": "6mgrSkZEYAgo"
      },
      "outputs": [],
      "source": [
        "print('harshal')"
      ]
    },
    {
      "cell_type": "code",
      "execution_count": null,
      "metadata": {
        "id": "zDrtHSR2YAgo"
      },
      "outputs": [],
      "source": [
        "print('harshal')"
      ]
    },
    {
      "cell_type": "code",
      "execution_count": null,
      "metadata": {
        "id": "NkeM0S-nYAgo"
      },
      "outputs": [],
      "source": [
        "print('harshal')"
      ]
    },
    {
      "cell_type": "code",
      "execution_count": null,
      "metadata": {
        "id": "uA5-DgGpYAgo"
      },
      "outputs": [],
      "source": [
        "print('harshal')"
      ]
    },
    {
      "cell_type": "code",
      "execution_count": null,
      "metadata": {
        "id": "OnWcvUhPYAgp"
      },
      "outputs": [],
      "source": [
        "print('harshal')"
      ]
    },
    {
      "cell_type": "code",
      "execution_count": null,
      "metadata": {
        "id": "1e5MBGCMYAgp"
      },
      "outputs": [],
      "source": [
        "print('harshal')"
      ]
    },
    {
      "cell_type": "code",
      "execution_count": null,
      "metadata": {
        "id": "bkaoRFTOYAgp"
      },
      "outputs": [],
      "source": [
        "print('harshal')"
      ]
    },
    {
      "cell_type": "code",
      "execution_count": null,
      "metadata": {
        "id": "Fhgc34KVYAgp"
      },
      "outputs": [],
      "source": [
        "print('harshal')"
      ]
    },
    {
      "cell_type": "code",
      "execution_count": null,
      "metadata": {
        "id": "SwXmq7xcYAgp"
      },
      "outputs": [],
      "source": [
        "print('harshal')"
      ]
    },
    {
      "cell_type": "code",
      "execution_count": null,
      "metadata": {
        "id": "NxasQWDFYAgp"
      },
      "outputs": [],
      "source": [
        "print('harshal')"
      ]
    },
    {
      "cell_type": "code",
      "execution_count": null,
      "metadata": {
        "id": "KUt9Qa7HYAgp"
      },
      "outputs": [],
      "source": [
        "print('harshal')"
      ]
    },
    {
      "cell_type": "code",
      "execution_count": null,
      "metadata": {
        "id": "uxUAnuPhYAgq"
      },
      "outputs": [],
      "source": [
        "print('harshal')"
      ]
    },
    {
      "cell_type": "code",
      "execution_count": null,
      "metadata": {
        "id": "_4pzcD2_YAi9"
      },
      "outputs": [],
      "source": [
        "print('harshal')"
      ]
    },
    {
      "cell_type": "code",
      "source": [],
      "metadata": {
        "id": "JP4TQQ1oYAi-"
      },
      "execution_count": null,
      "outputs": []
    },
    {
      "cell_type": "code",
      "execution_count": null,
      "metadata": {
        "id": "BOYgwlkkYAi-"
      },
      "outputs": [],
      "source": [
        "print('harshal')"
      ]
    },
    {
      "cell_type": "code",
      "execution_count": null,
      "metadata": {
        "id": "YDFtqC2wYAi-"
      },
      "outputs": [],
      "source": [
        "print('harshal')"
      ]
    },
    {
      "cell_type": "code",
      "execution_count": null,
      "metadata": {
        "id": "Az5o88LKYAi-"
      },
      "outputs": [],
      "source": [
        "print('harshal')"
      ]
    },
    {
      "cell_type": "code",
      "execution_count": null,
      "metadata": {
        "id": "-ybg8hGrYAi-"
      },
      "outputs": [],
      "source": [
        "print('harshal')"
      ]
    },
    {
      "cell_type": "code",
      "execution_count": null,
      "metadata": {
        "id": "2QJEXKY7YAi_"
      },
      "outputs": [],
      "source": [
        "print('harshal')"
      ]
    },
    {
      "cell_type": "code",
      "execution_count": null,
      "metadata": {
        "id": "U8d9-62RYAi_"
      },
      "outputs": [],
      "source": [
        "print('harshal')"
      ]
    },
    {
      "cell_type": "code",
      "execution_count": null,
      "metadata": {
        "id": "R4X2t-wHYAi_"
      },
      "outputs": [],
      "source": [
        "print('harshal')"
      ]
    },
    {
      "cell_type": "code",
      "execution_count": null,
      "metadata": {
        "id": "u9o6Tm3CYAi_"
      },
      "outputs": [],
      "source": [
        "print('harshal')"
      ]
    },
    {
      "cell_type": "code",
      "execution_count": null,
      "metadata": {
        "id": "f9HYRo7lYAi_"
      },
      "outputs": [],
      "source": [
        "print('harshal')"
      ]
    },
    {
      "cell_type": "code",
      "source": [],
      "metadata": {
        "id": "Z26a_-zdYAi_"
      },
      "execution_count": null,
      "outputs": []
    },
    {
      "cell_type": "code",
      "execution_count": null,
      "metadata": {
        "id": "idLD-mWPYAjA"
      },
      "outputs": [],
      "source": [
        "print('harshal')"
      ]
    },
    {
      "cell_type": "code",
      "execution_count": null,
      "metadata": {
        "id": "Lgg-Bn1eYAjA"
      },
      "outputs": [],
      "source": [
        "print('harshal')"
      ]
    },
    {
      "cell_type": "code",
      "execution_count": null,
      "metadata": {
        "id": "eH4A7wrVYAjA"
      },
      "outputs": [],
      "source": [
        "print('harshal')"
      ]
    },
    {
      "cell_type": "code",
      "execution_count": null,
      "metadata": {
        "id": "_Ec-68ltYAjA"
      },
      "outputs": [],
      "source": [
        "print('harshal')"
      ]
    },
    {
      "cell_type": "code",
      "execution_count": null,
      "metadata": {
        "id": "7dQ-5X-qYAjA"
      },
      "outputs": [],
      "source": [
        "print('harshal')"
      ]
    },
    {
      "cell_type": "code",
      "execution_count": null,
      "metadata": {
        "id": "hEkQOQopYAjA"
      },
      "outputs": [],
      "source": [
        "print('harshal')"
      ]
    },
    {
      "cell_type": "code",
      "execution_count": null,
      "metadata": {
        "id": "v_oQetNpYAjB"
      },
      "outputs": [],
      "source": [
        "print('harshal')"
      ]
    },
    {
      "cell_type": "code",
      "execution_count": null,
      "metadata": {
        "id": "ZGjThDrYYAjB"
      },
      "outputs": [],
      "source": [
        "print('harshal')"
      ]
    },
    {
      "cell_type": "code",
      "execution_count": null,
      "metadata": {
        "id": "-DOj4hdAYAjB"
      },
      "outputs": [],
      "source": [
        "print('harshal')"
      ]
    },
    {
      "cell_type": "code",
      "execution_count": null,
      "metadata": {
        "id": "yWouQcmaYAjB"
      },
      "outputs": [],
      "source": [
        "print('harshal')"
      ]
    },
    {
      "cell_type": "code",
      "execution_count": null,
      "metadata": {
        "id": "8d_qYYbEYAjB"
      },
      "outputs": [],
      "source": [
        "print('harshal')"
      ]
    },
    {
      "cell_type": "code",
      "execution_count": null,
      "metadata": {
        "id": "DNM9UOSXYAjB"
      },
      "outputs": [],
      "source": [
        "print('harshal')"
      ]
    },
    {
      "cell_type": "code",
      "execution_count": null,
      "metadata": {
        "id": "cp2RC8ReYAl1"
      },
      "outputs": [],
      "source": [
        "print('harshal')"
      ]
    },
    {
      "cell_type": "code",
      "source": [],
      "metadata": {
        "id": "-nBrHIK0YAl1"
      },
      "execution_count": null,
      "outputs": []
    },
    {
      "cell_type": "code",
      "execution_count": null,
      "metadata": {
        "id": "ae5-MkdqYAl1"
      },
      "outputs": [],
      "source": [
        "print('harshal')"
      ]
    },
    {
      "cell_type": "code",
      "execution_count": null,
      "metadata": {
        "id": "nZuipFaCYAl1"
      },
      "outputs": [],
      "source": [
        "print('harshal')"
      ]
    },
    {
      "cell_type": "code",
      "execution_count": null,
      "metadata": {
        "id": "xUBwhkR7YAl1"
      },
      "outputs": [],
      "source": [
        "print('harshal')"
      ]
    },
    {
      "cell_type": "code",
      "execution_count": null,
      "metadata": {
        "id": "7L3iup-uYAl2"
      },
      "outputs": [],
      "source": [
        "print('harshal')"
      ]
    },
    {
      "cell_type": "code",
      "execution_count": null,
      "metadata": {
        "id": "EoEYR1jZYAl2"
      },
      "outputs": [],
      "source": [
        "print('harshal')"
      ]
    },
    {
      "cell_type": "code",
      "execution_count": null,
      "metadata": {
        "id": "E6o8JACSYAl2"
      },
      "outputs": [],
      "source": [
        "print('harshal')"
      ]
    },
    {
      "cell_type": "code",
      "execution_count": null,
      "metadata": {
        "id": "DivrllMmYAl2"
      },
      "outputs": [],
      "source": [
        "print('harshal')"
      ]
    },
    {
      "cell_type": "code",
      "execution_count": null,
      "metadata": {
        "id": "htwr0y2hYAl2"
      },
      "outputs": [],
      "source": [
        "print('harshal')"
      ]
    },
    {
      "cell_type": "code",
      "execution_count": null,
      "metadata": {
        "id": "bayBCqwkYAl2"
      },
      "outputs": [],
      "source": [
        "print('harshal')"
      ]
    },
    {
      "cell_type": "code",
      "source": [],
      "metadata": {
        "id": "jdqaTSY2YAl2"
      },
      "execution_count": null,
      "outputs": []
    },
    {
      "cell_type": "code",
      "execution_count": null,
      "metadata": {
        "id": "uJITLxRMYAl2"
      },
      "outputs": [],
      "source": [
        "print('harshal')"
      ]
    },
    {
      "cell_type": "code",
      "execution_count": null,
      "metadata": {
        "id": "_m_v9GiBYAl3"
      },
      "outputs": [],
      "source": [
        "print('harshal')"
      ]
    },
    {
      "cell_type": "code",
      "execution_count": null,
      "metadata": {
        "id": "dtIbmH4BYAl3"
      },
      "outputs": [],
      "source": [
        "print('harshal')"
      ]
    },
    {
      "cell_type": "code",
      "execution_count": null,
      "metadata": {
        "id": "8GoPUn3RYAl3"
      },
      "outputs": [],
      "source": [
        "print('harshal')"
      ]
    },
    {
      "cell_type": "code",
      "execution_count": null,
      "metadata": {
        "id": "XH5dLTLiYAl3"
      },
      "outputs": [],
      "source": [
        "print('harshal')"
      ]
    },
    {
      "cell_type": "code",
      "execution_count": null,
      "metadata": {
        "id": "w-o3pxGrYAl3"
      },
      "outputs": [],
      "source": [
        "print('harshal')"
      ]
    },
    {
      "cell_type": "code",
      "execution_count": null,
      "metadata": {
        "id": "-gHgtnIqYAl3"
      },
      "outputs": [],
      "source": [
        "print('harshal')"
      ]
    },
    {
      "cell_type": "code",
      "execution_count": null,
      "metadata": {
        "id": "Lj3s-67hYAl4"
      },
      "outputs": [],
      "source": [
        "print('harshal')"
      ]
    },
    {
      "cell_type": "code",
      "execution_count": null,
      "metadata": {
        "id": "T6JBUL3FYAl4"
      },
      "outputs": [],
      "source": [
        "print('harshal')"
      ]
    },
    {
      "cell_type": "code",
      "execution_count": null,
      "metadata": {
        "id": "ie__gq_QYAl4"
      },
      "outputs": [],
      "source": [
        "print('harshal')"
      ]
    },
    {
      "cell_type": "code",
      "execution_count": null,
      "metadata": {
        "id": "074_QJtIYAl4"
      },
      "outputs": [],
      "source": [
        "print('harshal')"
      ]
    },
    {
      "cell_type": "code",
      "execution_count": null,
      "metadata": {
        "id": "Vdct6tXnYAl4"
      },
      "outputs": [],
      "source": [
        "print('harshal')"
      ]
    },
    {
      "cell_type": "code",
      "execution_count": null,
      "metadata": {
        "id": "iStsnziHYAoc"
      },
      "outputs": [],
      "source": [
        "print('harshal')"
      ]
    },
    {
      "cell_type": "code",
      "source": [],
      "metadata": {
        "id": "F0DUe4pLYAoc"
      },
      "execution_count": null,
      "outputs": []
    },
    {
      "cell_type": "code",
      "execution_count": null,
      "metadata": {
        "id": "pBe7IcUwYAoc"
      },
      "outputs": [],
      "source": [
        "print('harshal')"
      ]
    },
    {
      "cell_type": "code",
      "execution_count": null,
      "metadata": {
        "id": "2Nm6R4zWYAoc"
      },
      "outputs": [],
      "source": [
        "print('harshal')"
      ]
    },
    {
      "cell_type": "code",
      "execution_count": null,
      "metadata": {
        "id": "FwDCRI6iYAoc"
      },
      "outputs": [],
      "source": [
        "print('harshal')"
      ]
    },
    {
      "cell_type": "code",
      "execution_count": null,
      "metadata": {
        "id": "we5NxYAGYAod"
      },
      "outputs": [],
      "source": [
        "print('harshal')"
      ]
    },
    {
      "cell_type": "code",
      "execution_count": null,
      "metadata": {
        "id": "8Rp6s7CsYAod"
      },
      "outputs": [],
      "source": [
        "print('harshal')"
      ]
    },
    {
      "cell_type": "code",
      "execution_count": null,
      "metadata": {
        "id": "VtQxprsEYAod"
      },
      "outputs": [],
      "source": [
        "print('harshal')"
      ]
    },
    {
      "cell_type": "code",
      "execution_count": null,
      "metadata": {
        "id": "EqSzDZ6WYAod"
      },
      "outputs": [],
      "source": [
        "print('harshal')"
      ]
    },
    {
      "cell_type": "code",
      "execution_count": null,
      "metadata": {
        "id": "UW9KGzMdYAod"
      },
      "outputs": [],
      "source": [
        "print('harshal')"
      ]
    },
    {
      "cell_type": "code",
      "execution_count": null,
      "metadata": {
        "id": "svoMTiO9YAod"
      },
      "outputs": [],
      "source": [
        "print('harshal')"
      ]
    },
    {
      "cell_type": "code",
      "source": [],
      "metadata": {
        "id": "VfQ4kqyTYAod"
      },
      "execution_count": null,
      "outputs": []
    },
    {
      "cell_type": "code",
      "execution_count": null,
      "metadata": {
        "id": "7dHzEEeyYAod"
      },
      "outputs": [],
      "source": [
        "print('harshal')"
      ]
    },
    {
      "cell_type": "code",
      "execution_count": null,
      "metadata": {
        "id": "N5Lkbd8JYAoe"
      },
      "outputs": [],
      "source": [
        "print('harshal')"
      ]
    },
    {
      "cell_type": "code",
      "execution_count": null,
      "metadata": {
        "id": "CruIP6-pYAoe"
      },
      "outputs": [],
      "source": [
        "print('harshal')"
      ]
    },
    {
      "cell_type": "code",
      "execution_count": null,
      "metadata": {
        "id": "n_KqDIL_YAoe"
      },
      "outputs": [],
      "source": [
        "print('harshal')"
      ]
    },
    {
      "cell_type": "code",
      "execution_count": null,
      "metadata": {
        "id": "ttdmTFroYAoe"
      },
      "outputs": [],
      "source": [
        "print('harshal')"
      ]
    },
    {
      "cell_type": "code",
      "execution_count": null,
      "metadata": {
        "id": "zf1KNojzYAoe"
      },
      "outputs": [],
      "source": [
        "print('harshal')"
      ]
    },
    {
      "cell_type": "code",
      "execution_count": null,
      "metadata": {
        "id": "A98K83oXYAoe"
      },
      "outputs": [],
      "source": [
        "print('harshal')"
      ]
    },
    {
      "cell_type": "code",
      "execution_count": null,
      "metadata": {
        "id": "aD_c0tEaYAoe"
      },
      "outputs": [],
      "source": [
        "print('harshal')"
      ]
    },
    {
      "cell_type": "code",
      "execution_count": null,
      "metadata": {
        "id": "eELi6WJjYAoe"
      },
      "outputs": [],
      "source": [
        "print('harshal')"
      ]
    },
    {
      "cell_type": "code",
      "execution_count": null,
      "metadata": {
        "id": "V2IkPuCgYAof"
      },
      "outputs": [],
      "source": [
        "print('harshal')"
      ]
    },
    {
      "cell_type": "code",
      "execution_count": null,
      "metadata": {
        "id": "8fgtNT0LYAof"
      },
      "outputs": [],
      "source": [
        "print('harshal')"
      ]
    },
    {
      "cell_type": "code",
      "execution_count": null,
      "metadata": {
        "id": "8Y0GYGgdYAof"
      },
      "outputs": [],
      "source": [
        "print('harshal')"
      ]
    },
    {
      "cell_type": "code",
      "execution_count": null,
      "metadata": {
        "id": "eEAP4NjOYArc"
      },
      "outputs": [],
      "source": [
        "print('harshal')"
      ]
    },
    {
      "cell_type": "code",
      "source": [],
      "metadata": {
        "id": "f47QNBDnYArd"
      },
      "execution_count": null,
      "outputs": []
    },
    {
      "cell_type": "code",
      "execution_count": null,
      "metadata": {
        "id": "qJtaIRuDYArd"
      },
      "outputs": [],
      "source": [
        "print('harshal')"
      ]
    },
    {
      "cell_type": "code",
      "execution_count": null,
      "metadata": {
        "id": "WUfTvwtGYArd"
      },
      "outputs": [],
      "source": [
        "print('harshal')"
      ]
    },
    {
      "cell_type": "code",
      "execution_count": null,
      "metadata": {
        "id": "_sWI_TPpYArd"
      },
      "outputs": [],
      "source": [
        "print('harshal')"
      ]
    },
    {
      "cell_type": "code",
      "execution_count": null,
      "metadata": {
        "id": "iMqEA7tDYArd"
      },
      "outputs": [],
      "source": [
        "print('harshal')"
      ]
    },
    {
      "cell_type": "code",
      "execution_count": null,
      "metadata": {
        "id": "9cV39rsCYArd"
      },
      "outputs": [],
      "source": [
        "print('harshal')"
      ]
    },
    {
      "cell_type": "code",
      "execution_count": null,
      "metadata": {
        "id": "Kq4tgQ4lYAre"
      },
      "outputs": [],
      "source": [
        "print('harshal')"
      ]
    },
    {
      "cell_type": "code",
      "execution_count": null,
      "metadata": {
        "id": "Bbc-1EOKYAre"
      },
      "outputs": [],
      "source": [
        "print('harshal')"
      ]
    },
    {
      "cell_type": "code",
      "execution_count": null,
      "metadata": {
        "id": "a8OnggLPYAre"
      },
      "outputs": [],
      "source": [
        "print('harshal')"
      ]
    },
    {
      "cell_type": "code",
      "execution_count": null,
      "metadata": {
        "id": "lktcXsqmYAre"
      },
      "outputs": [],
      "source": [
        "print('harshal')"
      ]
    },
    {
      "cell_type": "code",
      "source": [],
      "metadata": {
        "id": "Lnf0zY7nYAre"
      },
      "execution_count": null,
      "outputs": []
    },
    {
      "cell_type": "code",
      "execution_count": null,
      "metadata": {
        "id": "-W1nPr7JYAre"
      },
      "outputs": [],
      "source": [
        "print('harshal')"
      ]
    },
    {
      "cell_type": "code",
      "execution_count": null,
      "metadata": {
        "id": "3M2uBpvvYAre"
      },
      "outputs": [],
      "source": [
        "print('harshal')"
      ]
    },
    {
      "cell_type": "code",
      "execution_count": null,
      "metadata": {
        "id": "R0gGy4h4YAre"
      },
      "outputs": [],
      "source": [
        "print('harshal')"
      ]
    },
    {
      "cell_type": "code",
      "execution_count": null,
      "metadata": {
        "id": "g3kuVQn8YArf"
      },
      "outputs": [],
      "source": [
        "print('harshal')"
      ]
    },
    {
      "cell_type": "code",
      "execution_count": null,
      "metadata": {
        "id": "q0aYt3Z3YArf"
      },
      "outputs": [],
      "source": [
        "print('harshal')"
      ]
    },
    {
      "cell_type": "code",
      "execution_count": null,
      "metadata": {
        "id": "Au98k6qOYArf"
      },
      "outputs": [],
      "source": [
        "print('harshal')"
      ]
    },
    {
      "cell_type": "code",
      "execution_count": null,
      "metadata": {
        "id": "ChiY6u_VYArf"
      },
      "outputs": [],
      "source": [
        "print('harshal')"
      ]
    },
    {
      "cell_type": "code",
      "execution_count": null,
      "metadata": {
        "id": "t27FaRrtYArf"
      },
      "outputs": [],
      "source": [
        "print('harshal')"
      ]
    },
    {
      "cell_type": "code",
      "execution_count": null,
      "metadata": {
        "id": "p2Kd6zwBYArf"
      },
      "outputs": [],
      "source": [
        "print('harshal')"
      ]
    },
    {
      "cell_type": "code",
      "execution_count": null,
      "metadata": {
        "id": "ZjyU8Da3YArf"
      },
      "outputs": [],
      "source": [
        "print('harshal')"
      ]
    },
    {
      "cell_type": "code",
      "execution_count": null,
      "metadata": {
        "id": "KAWeg3sxYArf"
      },
      "outputs": [],
      "source": [
        "print('harshal')"
      ]
    },
    {
      "cell_type": "code",
      "execution_count": null,
      "metadata": {
        "id": "NZRRwc97YArg"
      },
      "outputs": [],
      "source": [
        "print('harshal')"
      ]
    },
    {
      "cell_type": "code",
      "execution_count": null,
      "metadata": {
        "id": "48taE3GHYAuQ"
      },
      "outputs": [],
      "source": [
        "print('harshal')"
      ]
    },
    {
      "cell_type": "code",
      "source": [],
      "metadata": {
        "id": "C5OG2driYAuQ"
      },
      "execution_count": null,
      "outputs": []
    },
    {
      "cell_type": "code",
      "execution_count": null,
      "metadata": {
        "id": "KZDWwFCYYAuQ"
      },
      "outputs": [],
      "source": [
        "print('harshal')"
      ]
    },
    {
      "cell_type": "code",
      "execution_count": null,
      "metadata": {
        "id": "dnPGws9nYAuQ"
      },
      "outputs": [],
      "source": [
        "print('harshal')"
      ]
    },
    {
      "cell_type": "code",
      "execution_count": null,
      "metadata": {
        "id": "Hj1K7_V3YAuR"
      },
      "outputs": [],
      "source": [
        "print('harshal')"
      ]
    },
    {
      "cell_type": "code",
      "execution_count": null,
      "metadata": {
        "id": "f1yZbhqeYAuR"
      },
      "outputs": [],
      "source": [
        "print('harshal')"
      ]
    },
    {
      "cell_type": "code",
      "execution_count": null,
      "metadata": {
        "id": "ps5Ck9xtYAuR"
      },
      "outputs": [],
      "source": [
        "print('harshal')"
      ]
    },
    {
      "cell_type": "code",
      "execution_count": null,
      "metadata": {
        "id": "aUoTwnvSYAuR"
      },
      "outputs": [],
      "source": [
        "print('harshal')"
      ]
    },
    {
      "cell_type": "code",
      "execution_count": null,
      "metadata": {
        "id": "eFvSaX3QYAuR"
      },
      "outputs": [],
      "source": [
        "print('harshal')"
      ]
    },
    {
      "cell_type": "code",
      "execution_count": null,
      "metadata": {
        "id": "TaIn2lniYAuR"
      },
      "outputs": [],
      "source": [
        "print('harshal')"
      ]
    },
    {
      "cell_type": "code",
      "execution_count": null,
      "metadata": {
        "id": "u4CiNdUXYAuR"
      },
      "outputs": [],
      "source": [
        "print('harshal')"
      ]
    },
    {
      "cell_type": "code",
      "source": [],
      "metadata": {
        "id": "-9Z3uklmYAuR"
      },
      "execution_count": null,
      "outputs": []
    },
    {
      "cell_type": "code",
      "execution_count": null,
      "metadata": {
        "id": "rhnzgW6YYAuS"
      },
      "outputs": [],
      "source": [
        "print('harshal')"
      ]
    },
    {
      "cell_type": "code",
      "execution_count": null,
      "metadata": {
        "id": "tXs7tDefYAuS"
      },
      "outputs": [],
      "source": [
        "print('harshal')"
      ]
    },
    {
      "cell_type": "code",
      "execution_count": null,
      "metadata": {
        "id": "X4QFpwe1YAuS"
      },
      "outputs": [],
      "source": [
        "print('harshal')"
      ]
    },
    {
      "cell_type": "code",
      "execution_count": null,
      "metadata": {
        "id": "qnsUtENTYAuS"
      },
      "outputs": [],
      "source": [
        "print('harshal')"
      ]
    },
    {
      "cell_type": "code",
      "execution_count": null,
      "metadata": {
        "id": "CUGy2SHmYAuS"
      },
      "outputs": [],
      "source": [
        "print('harshal')"
      ]
    },
    {
      "cell_type": "code",
      "execution_count": null,
      "metadata": {
        "id": "CCmTpqjlYAuS"
      },
      "outputs": [],
      "source": [
        "print('harshal')"
      ]
    },
    {
      "cell_type": "code",
      "execution_count": null,
      "metadata": {
        "id": "bF26wLhWYAuS"
      },
      "outputs": [],
      "source": [
        "print('harshal')"
      ]
    },
    {
      "cell_type": "code",
      "execution_count": null,
      "metadata": {
        "id": "oRDHU5GtYAuS"
      },
      "outputs": [],
      "source": [
        "print('harshal')"
      ]
    },
    {
      "cell_type": "code",
      "execution_count": null,
      "metadata": {
        "id": "o50OfJONYAuS"
      },
      "outputs": [],
      "source": [
        "print('harshal')"
      ]
    },
    {
      "cell_type": "code",
      "execution_count": null,
      "metadata": {
        "id": "oVmQ3pRnYAuT"
      },
      "outputs": [],
      "source": [
        "print('harshal')"
      ]
    },
    {
      "cell_type": "code",
      "execution_count": null,
      "metadata": {
        "id": "0ALyqWJ3YAuT"
      },
      "outputs": [],
      "source": [
        "print('harshal')"
      ]
    },
    {
      "cell_type": "code",
      "execution_count": null,
      "metadata": {
        "id": "1plXSLCUYAuT"
      },
      "outputs": [],
      "source": [
        "print('harshal')"
      ]
    },
    {
      "cell_type": "code",
      "execution_count": null,
      "metadata": {
        "id": "xFEe9ZhAYAxj"
      },
      "outputs": [],
      "source": [
        "print('harshal')"
      ]
    },
    {
      "cell_type": "code",
      "source": [],
      "metadata": {
        "id": "gFV4g5wUYAxk"
      },
      "execution_count": null,
      "outputs": []
    },
    {
      "cell_type": "code",
      "execution_count": null,
      "metadata": {
        "id": "kAv6nnktYAxk"
      },
      "outputs": [],
      "source": [
        "print('harshal')"
      ]
    },
    {
      "cell_type": "code",
      "execution_count": null,
      "metadata": {
        "id": "cMOc6t6VYAxk"
      },
      "outputs": [],
      "source": [
        "print('harshal')"
      ]
    },
    {
      "cell_type": "code",
      "execution_count": null,
      "metadata": {
        "id": "noCV5XO_YAxk"
      },
      "outputs": [],
      "source": [
        "print('harshal')"
      ]
    },
    {
      "cell_type": "code",
      "execution_count": null,
      "metadata": {
        "id": "YRExdWmQYAxl"
      },
      "outputs": [],
      "source": [
        "print('harshal')"
      ]
    },
    {
      "cell_type": "code",
      "execution_count": null,
      "metadata": {
        "id": "QhAnscqtYAxl"
      },
      "outputs": [],
      "source": [
        "print('harshal')"
      ]
    },
    {
      "cell_type": "code",
      "execution_count": null,
      "metadata": {
        "id": "HpsFIA7vYAxl"
      },
      "outputs": [],
      "source": [
        "print('harshal')"
      ]
    },
    {
      "cell_type": "code",
      "execution_count": null,
      "metadata": {
        "id": "Dk1KWMPTYAxl"
      },
      "outputs": [],
      "source": [
        "print('harshal')"
      ]
    },
    {
      "cell_type": "code",
      "execution_count": null,
      "metadata": {
        "id": "Pypi9U0OYAxl"
      },
      "outputs": [],
      "source": [
        "print('harshal')"
      ]
    },
    {
      "cell_type": "code",
      "execution_count": null,
      "metadata": {
        "id": "tTNBRHy0YAxl"
      },
      "outputs": [],
      "source": [
        "print('harshal')"
      ]
    },
    {
      "cell_type": "code",
      "source": [],
      "metadata": {
        "id": "eX1cAUZJYAxl"
      },
      "execution_count": null,
      "outputs": []
    },
    {
      "cell_type": "code",
      "execution_count": null,
      "metadata": {
        "id": "rYuVr09cYAxl"
      },
      "outputs": [],
      "source": [
        "print('harshal')"
      ]
    },
    {
      "cell_type": "code",
      "execution_count": null,
      "metadata": {
        "id": "uFEgF-jRYAxm"
      },
      "outputs": [],
      "source": [
        "print('harshal')"
      ]
    },
    {
      "cell_type": "code",
      "execution_count": null,
      "metadata": {
        "id": "0EqTp0Z0YAxm"
      },
      "outputs": [],
      "source": [
        "print('harshal')"
      ]
    },
    {
      "cell_type": "code",
      "execution_count": null,
      "metadata": {
        "id": "Wq7Xvyy6YAxm"
      },
      "outputs": [],
      "source": [
        "print('harshal')"
      ]
    },
    {
      "cell_type": "code",
      "execution_count": null,
      "metadata": {
        "id": "HllOz5gqYAxm"
      },
      "outputs": [],
      "source": [
        "print('harshal')"
      ]
    },
    {
      "cell_type": "code",
      "execution_count": null,
      "metadata": {
        "id": "_N1HGSYqYAxm"
      },
      "outputs": [],
      "source": [
        "print('harshal')"
      ]
    },
    {
      "cell_type": "code",
      "execution_count": null,
      "metadata": {
        "id": "mhSdfa1nYAxm"
      },
      "outputs": [],
      "source": [
        "print('harshal')"
      ]
    },
    {
      "cell_type": "code",
      "execution_count": null,
      "metadata": {
        "id": "ElCE2BEdYAxm"
      },
      "outputs": [],
      "source": [
        "print('harshal')"
      ]
    },
    {
      "cell_type": "code",
      "execution_count": null,
      "metadata": {
        "id": "KoEuyUBnYAxm"
      },
      "outputs": [],
      "source": [
        "print('harshal')"
      ]
    },
    {
      "cell_type": "code",
      "execution_count": null,
      "metadata": {
        "id": "94kfX-IiYAxm"
      },
      "outputs": [],
      "source": [
        "print('harshal')"
      ]
    },
    {
      "cell_type": "code",
      "execution_count": null,
      "metadata": {
        "id": "euqXU3cYYAxn"
      },
      "outputs": [],
      "source": [
        "print('harshal')"
      ]
    },
    {
      "cell_type": "code",
      "execution_count": null,
      "metadata": {
        "id": "7CMfRVbuYAxn"
      },
      "outputs": [],
      "source": [
        "print('harshal')"
      ]
    },
    {
      "cell_type": "code",
      "execution_count": null,
      "metadata": {
        "id": "ZxGklr29YA03"
      },
      "outputs": [],
      "source": [
        "print('harshal')"
      ]
    },
    {
      "cell_type": "code",
      "source": [],
      "metadata": {
        "id": "1nVz0L-nYA03"
      },
      "execution_count": null,
      "outputs": []
    },
    {
      "cell_type": "code",
      "execution_count": null,
      "metadata": {
        "id": "EH1Cd5mlYA04"
      },
      "outputs": [],
      "source": [
        "print('harshal')"
      ]
    },
    {
      "cell_type": "code",
      "execution_count": null,
      "metadata": {
        "id": "rW0drvkEYA04"
      },
      "outputs": [],
      "source": [
        "print('harshal')"
      ]
    },
    {
      "cell_type": "code",
      "execution_count": null,
      "metadata": {
        "id": "jwVt03aaYA04"
      },
      "outputs": [],
      "source": [
        "print('harshal')"
      ]
    },
    {
      "cell_type": "code",
      "execution_count": null,
      "metadata": {
        "id": "-676aJLQYA04"
      },
      "outputs": [],
      "source": [
        "print('harshal')"
      ]
    },
    {
      "cell_type": "code",
      "execution_count": null,
      "metadata": {
        "id": "se1WGhWmYA04"
      },
      "outputs": [],
      "source": [
        "print('harshal')"
      ]
    },
    {
      "cell_type": "code",
      "execution_count": null,
      "metadata": {
        "id": "P08yiB3zYA05"
      },
      "outputs": [],
      "source": [
        "print('harshal')"
      ]
    },
    {
      "cell_type": "code",
      "execution_count": null,
      "metadata": {
        "id": "JOwsnJIGYA05"
      },
      "outputs": [],
      "source": [
        "print('harshal')"
      ]
    },
    {
      "cell_type": "code",
      "execution_count": null,
      "metadata": {
        "id": "CgbcKMGnYA05"
      },
      "outputs": [],
      "source": [
        "print('harshal')"
      ]
    },
    {
      "cell_type": "code",
      "execution_count": null,
      "metadata": {
        "id": "c3vo4zsRYA05"
      },
      "outputs": [],
      "source": [
        "print('harshal')"
      ]
    },
    {
      "cell_type": "code",
      "source": [],
      "metadata": {
        "id": "z7YVHWq-YA06"
      },
      "execution_count": null,
      "outputs": []
    },
    {
      "cell_type": "code",
      "execution_count": null,
      "metadata": {
        "id": "8t21gRoZYA06"
      },
      "outputs": [],
      "source": [
        "print('harshal')"
      ]
    },
    {
      "cell_type": "code",
      "execution_count": null,
      "metadata": {
        "id": "YybQu3ivYA06"
      },
      "outputs": [],
      "source": [
        "print('harshal')"
      ]
    },
    {
      "cell_type": "code",
      "execution_count": null,
      "metadata": {
        "id": "frokrYBkYA06"
      },
      "outputs": [],
      "source": [
        "print('harshal')"
      ]
    },
    {
      "cell_type": "code",
      "execution_count": null,
      "metadata": {
        "id": "WX3WcGEnYA06"
      },
      "outputs": [],
      "source": [
        "print('harshal')"
      ]
    },
    {
      "cell_type": "code",
      "execution_count": null,
      "metadata": {
        "id": "hkYtN8t2YA07"
      },
      "outputs": [],
      "source": [
        "print('harshal')"
      ]
    },
    {
      "cell_type": "code",
      "execution_count": null,
      "metadata": {
        "id": "hfpfjV9dYA07"
      },
      "outputs": [],
      "source": [
        "print('harshal')"
      ]
    },
    {
      "cell_type": "code",
      "execution_count": null,
      "metadata": {
        "id": "Da5bAFvnYA07"
      },
      "outputs": [],
      "source": [
        "print('harshal')"
      ]
    },
    {
      "cell_type": "code",
      "execution_count": null,
      "metadata": {
        "id": "EesBo5I4YA07"
      },
      "outputs": [],
      "source": [
        "print('harshal')"
      ]
    },
    {
      "cell_type": "code",
      "execution_count": null,
      "metadata": {
        "id": "9td1a5VWYA07"
      },
      "outputs": [],
      "source": [
        "print('harshal')"
      ]
    },
    {
      "cell_type": "code",
      "execution_count": null,
      "metadata": {
        "id": "MXak9r8DYA07"
      },
      "outputs": [],
      "source": [
        "print('harshal')"
      ]
    },
    {
      "cell_type": "code",
      "execution_count": null,
      "metadata": {
        "id": "JZimSosDYA08"
      },
      "outputs": [],
      "source": [
        "print('harshal')"
      ]
    },
    {
      "cell_type": "code",
      "execution_count": null,
      "metadata": {
        "id": "gXpwe5emYA08"
      },
      "outputs": [],
      "source": [
        "print('harshal')"
      ]
    },
    {
      "cell_type": "code",
      "execution_count": null,
      "metadata": {
        "id": "M9twebRoYA4u"
      },
      "outputs": [],
      "source": [
        "print('harshal')"
      ]
    },
    {
      "cell_type": "code",
      "source": [],
      "metadata": {
        "id": "6fHAU6XWYA4u"
      },
      "execution_count": null,
      "outputs": []
    },
    {
      "cell_type": "code",
      "execution_count": null,
      "metadata": {
        "id": "madxqVt1YA4u"
      },
      "outputs": [],
      "source": [
        "print('harshal')"
      ]
    },
    {
      "cell_type": "code",
      "execution_count": null,
      "metadata": {
        "id": "ljRZ1HtbYA4v"
      },
      "outputs": [],
      "source": [
        "print('harshal')"
      ]
    },
    {
      "cell_type": "code",
      "execution_count": null,
      "metadata": {
        "id": "Z2o76xFiYA4v"
      },
      "outputs": [],
      "source": [
        "print('harshal')"
      ]
    },
    {
      "cell_type": "code",
      "execution_count": null,
      "metadata": {
        "id": "U7IT599DYA4v"
      },
      "outputs": [],
      "source": [
        "print('harshal')"
      ]
    },
    {
      "cell_type": "code",
      "execution_count": null,
      "metadata": {
        "id": "BkZlA-CgYA4v"
      },
      "outputs": [],
      "source": [
        "print('harshal')"
      ]
    },
    {
      "cell_type": "code",
      "execution_count": null,
      "metadata": {
        "id": "JGoUuI_iYA4v"
      },
      "outputs": [],
      "source": [
        "print('harshal')"
      ]
    },
    {
      "cell_type": "code",
      "execution_count": null,
      "metadata": {
        "id": "04Q5MpwqYA4v"
      },
      "outputs": [],
      "source": [
        "print('harshal')"
      ]
    },
    {
      "cell_type": "code",
      "execution_count": null,
      "metadata": {
        "id": "VIfHVBCIYA4v"
      },
      "outputs": [],
      "source": [
        "print('harshal')"
      ]
    },
    {
      "cell_type": "code",
      "execution_count": null,
      "metadata": {
        "id": "qFcq5X9JYA4v"
      },
      "outputs": [],
      "source": [
        "print('harshal')"
      ]
    },
    {
      "cell_type": "code",
      "source": [],
      "metadata": {
        "id": "i156cCR-YA4w"
      },
      "execution_count": null,
      "outputs": []
    },
    {
      "cell_type": "code",
      "execution_count": null,
      "metadata": {
        "id": "kMvDJcQNYA4w"
      },
      "outputs": [],
      "source": [
        "print('harshal')"
      ]
    },
    {
      "cell_type": "code",
      "execution_count": null,
      "metadata": {
        "id": "CGnC8RC2YA4w"
      },
      "outputs": [],
      "source": [
        "print('harshal')"
      ]
    },
    {
      "cell_type": "code",
      "execution_count": null,
      "metadata": {
        "id": "fg_M4kuxYA4w"
      },
      "outputs": [],
      "source": [
        "print('harshal')"
      ]
    },
    {
      "cell_type": "code",
      "execution_count": null,
      "metadata": {
        "id": "1IOamsJ7YA4w"
      },
      "outputs": [],
      "source": [
        "print('harshal')"
      ]
    },
    {
      "cell_type": "code",
      "execution_count": null,
      "metadata": {
        "id": "-h_jtFUqYA4w"
      },
      "outputs": [],
      "source": [
        "print('harshal')"
      ]
    },
    {
      "cell_type": "code",
      "execution_count": null,
      "metadata": {
        "id": "aTZx4so4YA4w"
      },
      "outputs": [],
      "source": [
        "print('harshal')"
      ]
    },
    {
      "cell_type": "code",
      "execution_count": null,
      "metadata": {
        "id": "N83b1xH2YA4w"
      },
      "outputs": [],
      "source": [
        "print('harshal')"
      ]
    },
    {
      "cell_type": "code",
      "execution_count": null,
      "metadata": {
        "id": "_u9PoV0GYA4x"
      },
      "outputs": [],
      "source": [
        "print('harshal')"
      ]
    },
    {
      "cell_type": "code",
      "execution_count": null,
      "metadata": {
        "id": "vsYmcOGxYA4x"
      },
      "outputs": [],
      "source": [
        "print('harshal')"
      ]
    },
    {
      "cell_type": "code",
      "execution_count": null,
      "metadata": {
        "id": "QcOL8E2FYA4x"
      },
      "outputs": [],
      "source": [
        "print('harshal')"
      ]
    },
    {
      "cell_type": "code",
      "execution_count": null,
      "metadata": {
        "id": "3RBoQp4aYA4x"
      },
      "outputs": [],
      "source": [
        "print('harshal')"
      ]
    },
    {
      "cell_type": "code",
      "execution_count": null,
      "metadata": {
        "id": "vKJSNZlpYA4x"
      },
      "outputs": [],
      "source": [
        "print('harshal')"
      ]
    },
    {
      "cell_type": "code",
      "execution_count": null,
      "metadata": {
        "id": "WUNTyu_NYA8C"
      },
      "outputs": [],
      "source": [
        "print('harshal')"
      ]
    },
    {
      "cell_type": "code",
      "source": [],
      "metadata": {
        "id": "j-oyfMy-YA8C"
      },
      "execution_count": null,
      "outputs": []
    },
    {
      "cell_type": "code",
      "execution_count": null,
      "metadata": {
        "id": "vQVgM7LpYA8D"
      },
      "outputs": [],
      "source": [
        "print('harshal')"
      ]
    },
    {
      "cell_type": "code",
      "execution_count": null,
      "metadata": {
        "id": "fh4x6WhcYA8D"
      },
      "outputs": [],
      "source": [
        "print('harshal')"
      ]
    },
    {
      "cell_type": "code",
      "execution_count": null,
      "metadata": {
        "id": "hHW7pV1hYA8D"
      },
      "outputs": [],
      "source": [
        "print('harshal')"
      ]
    },
    {
      "cell_type": "code",
      "execution_count": null,
      "metadata": {
        "id": "74AJqQIkYA8D"
      },
      "outputs": [],
      "source": [
        "print('harshal')"
      ]
    },
    {
      "cell_type": "code",
      "execution_count": null,
      "metadata": {
        "id": "s02bSMMvYA8D"
      },
      "outputs": [],
      "source": [
        "print('harshal')"
      ]
    },
    {
      "cell_type": "code",
      "execution_count": null,
      "metadata": {
        "id": "Cx-D8HVAYA8D"
      },
      "outputs": [],
      "source": [
        "print('harshal')"
      ]
    },
    {
      "cell_type": "code",
      "execution_count": null,
      "metadata": {
        "id": "IsHXOy43YA8D"
      },
      "outputs": [],
      "source": [
        "print('harshal')"
      ]
    },
    {
      "cell_type": "code",
      "execution_count": null,
      "metadata": {
        "id": "iAnLLPFtYA8D"
      },
      "outputs": [],
      "source": [
        "print('harshal')"
      ]
    },
    {
      "cell_type": "code",
      "execution_count": null,
      "metadata": {
        "id": "aAsJxOWnYA8E"
      },
      "outputs": [],
      "source": [
        "print('harshal')"
      ]
    },
    {
      "cell_type": "code",
      "source": [],
      "metadata": {
        "id": "szcZcDBXYA8E"
      },
      "execution_count": null,
      "outputs": []
    },
    {
      "cell_type": "code",
      "execution_count": null,
      "metadata": {
        "id": "zqKpTgNzYA8E"
      },
      "outputs": [],
      "source": [
        "print('harshal')"
      ]
    },
    {
      "cell_type": "code",
      "execution_count": null,
      "metadata": {
        "id": "b85tkRt0YA8E"
      },
      "outputs": [],
      "source": [
        "print('harshal')"
      ]
    },
    {
      "cell_type": "code",
      "execution_count": null,
      "metadata": {
        "id": "IzocIg9QYA8E"
      },
      "outputs": [],
      "source": [
        "print('harshal')"
      ]
    },
    {
      "cell_type": "code",
      "execution_count": null,
      "metadata": {
        "id": "8TGsAZ3nYA8E"
      },
      "outputs": [],
      "source": [
        "print('harshal')"
      ]
    },
    {
      "cell_type": "code",
      "execution_count": null,
      "metadata": {
        "id": "8ls0Kz3nYA8E"
      },
      "outputs": [],
      "source": [
        "print('harshal')"
      ]
    },
    {
      "cell_type": "code",
      "execution_count": null,
      "metadata": {
        "id": "H0CGxcKqYA8E"
      },
      "outputs": [],
      "source": [
        "print('harshal')"
      ]
    },
    {
      "cell_type": "code",
      "execution_count": null,
      "metadata": {
        "id": "1Faeq-86YA8E"
      },
      "outputs": [],
      "source": [
        "print('harshal')"
      ]
    },
    {
      "cell_type": "code",
      "execution_count": null,
      "metadata": {
        "id": "EqQ0rFXcYA8F"
      },
      "outputs": [],
      "source": [
        "print('harshal')"
      ]
    },
    {
      "cell_type": "code",
      "execution_count": null,
      "metadata": {
        "id": "7NNtGkU6YA8F"
      },
      "outputs": [],
      "source": [
        "print('harshal')"
      ]
    },
    {
      "cell_type": "code",
      "execution_count": null,
      "metadata": {
        "id": "I_8uSomMYA8F"
      },
      "outputs": [],
      "source": [
        "print('harshal')"
      ]
    },
    {
      "cell_type": "code",
      "execution_count": null,
      "metadata": {
        "id": "60ZwFwgTYA8F"
      },
      "outputs": [],
      "source": [
        "print('harshal')"
      ]
    },
    {
      "cell_type": "code",
      "execution_count": null,
      "metadata": {
        "id": "B3PGGhX4YA8F"
      },
      "outputs": [],
      "source": [
        "print('harshal')"
      ]
    },
    {
      "cell_type": "code",
      "execution_count": null,
      "metadata": {
        "id": "BTQOKCBlYA_c"
      },
      "outputs": [],
      "source": [
        "print('harshal')"
      ]
    },
    {
      "cell_type": "code",
      "source": [],
      "metadata": {
        "id": "5pug-B9VYA_c"
      },
      "execution_count": null,
      "outputs": []
    },
    {
      "cell_type": "code",
      "execution_count": null,
      "metadata": {
        "id": "mKKXjGAOYA_c"
      },
      "outputs": [],
      "source": [
        "print('harshal')"
      ]
    },
    {
      "cell_type": "code",
      "execution_count": null,
      "metadata": {
        "id": "PlPT6aO0YA_c"
      },
      "outputs": [],
      "source": [
        "print('harshal')"
      ]
    },
    {
      "cell_type": "code",
      "execution_count": null,
      "metadata": {
        "id": "xysb2ZppYA_d"
      },
      "outputs": [],
      "source": [
        "print('harshal')"
      ]
    },
    {
      "cell_type": "code",
      "execution_count": null,
      "metadata": {
        "id": "cxdkuhP6YA_d"
      },
      "outputs": [],
      "source": [
        "print('harshal')"
      ]
    },
    {
      "cell_type": "code",
      "execution_count": null,
      "metadata": {
        "id": "PO4Q3aAAYA_d"
      },
      "outputs": [],
      "source": [
        "print('harshal')"
      ]
    },
    {
      "cell_type": "code",
      "execution_count": null,
      "metadata": {
        "id": "poNa67dIYA_d"
      },
      "outputs": [],
      "source": [
        "print('harshal')"
      ]
    },
    {
      "cell_type": "code",
      "execution_count": null,
      "metadata": {
        "id": "gcZ0ZO9IYA_d"
      },
      "outputs": [],
      "source": [
        "print('harshal')"
      ]
    },
    {
      "cell_type": "code",
      "execution_count": null,
      "metadata": {
        "id": "EXNRCa06YA_d"
      },
      "outputs": [],
      "source": [
        "print('harshal')"
      ]
    },
    {
      "cell_type": "code",
      "execution_count": null,
      "metadata": {
        "id": "XHK9WbWRYA_d"
      },
      "outputs": [],
      "source": [
        "print('harshal')"
      ]
    },
    {
      "cell_type": "code",
      "source": [],
      "metadata": {
        "id": "g9gmRV9yYA_d"
      },
      "execution_count": null,
      "outputs": []
    },
    {
      "cell_type": "code",
      "execution_count": null,
      "metadata": {
        "id": "2zBh86sTYA_e"
      },
      "outputs": [],
      "source": [
        "print('harshal')"
      ]
    },
    {
      "cell_type": "code",
      "execution_count": null,
      "metadata": {
        "id": "uE54UWZzYA_e"
      },
      "outputs": [],
      "source": [
        "print('harshal')"
      ]
    },
    {
      "cell_type": "code",
      "execution_count": null,
      "metadata": {
        "id": "JOmxP2haYA_e"
      },
      "outputs": [],
      "source": [
        "print('harshal')"
      ]
    },
    {
      "cell_type": "code",
      "execution_count": null,
      "metadata": {
        "id": "VDjna86BYA_e"
      },
      "outputs": [],
      "source": [
        "print('harshal')"
      ]
    },
    {
      "cell_type": "code",
      "execution_count": null,
      "metadata": {
        "id": "P6vwFIGqYA_e"
      },
      "outputs": [],
      "source": [
        "print('harshal')"
      ]
    },
    {
      "cell_type": "code",
      "execution_count": null,
      "metadata": {
        "id": "VfZPRR6EYA_e"
      },
      "outputs": [],
      "source": [
        "print('harshal')"
      ]
    },
    {
      "cell_type": "code",
      "execution_count": null,
      "metadata": {
        "id": "OH3qGFJSYA_f"
      },
      "outputs": [],
      "source": [
        "print('harshal')"
      ]
    },
    {
      "cell_type": "code",
      "execution_count": null,
      "metadata": {
        "id": "eTLXvatFYA_f"
      },
      "outputs": [],
      "source": [
        "print('harshal')"
      ]
    },
    {
      "cell_type": "code",
      "execution_count": null,
      "metadata": {
        "id": "IJxNaJS7YA_f"
      },
      "outputs": [],
      "source": [
        "print('harshal')"
      ]
    },
    {
      "cell_type": "code",
      "execution_count": null,
      "metadata": {
        "id": "97jDxEBsYA_f"
      },
      "outputs": [],
      "source": [
        "print('harshal')"
      ]
    },
    {
      "cell_type": "code",
      "execution_count": null,
      "metadata": {
        "id": "OkvqyexVYA_f"
      },
      "outputs": [],
      "source": [
        "print('harshal')"
      ]
    },
    {
      "cell_type": "code",
      "execution_count": null,
      "metadata": {
        "id": "2fMQ0d4EYA_f"
      },
      "outputs": [],
      "source": [
        "print('harshal')"
      ]
    },
    {
      "cell_type": "code",
      "execution_count": null,
      "metadata": {
        "id": "cSDP6EyWYBDd"
      },
      "outputs": [],
      "source": [
        "print('harshal')"
      ]
    },
    {
      "cell_type": "code",
      "source": [],
      "metadata": {
        "id": "nyoNDKLBYBDe"
      },
      "execution_count": null,
      "outputs": []
    },
    {
      "cell_type": "code",
      "execution_count": null,
      "metadata": {
        "id": "LWL1lvGSYBDe"
      },
      "outputs": [],
      "source": [
        "print('harshal')"
      ]
    },
    {
      "cell_type": "code",
      "execution_count": null,
      "metadata": {
        "id": "zszUISGjYBDe"
      },
      "outputs": [],
      "source": [
        "print('harshal')"
      ]
    },
    {
      "cell_type": "code",
      "execution_count": null,
      "metadata": {
        "id": "8PaCr2k5YBDe"
      },
      "outputs": [],
      "source": [
        "print('harshal')"
      ]
    },
    {
      "cell_type": "code",
      "execution_count": null,
      "metadata": {
        "id": "JRBVZUCSYBDe"
      },
      "outputs": [],
      "source": [
        "print('harshal')"
      ]
    },
    {
      "cell_type": "code",
      "execution_count": null,
      "metadata": {
        "id": "Qp66b2dDYBDe"
      },
      "outputs": [],
      "source": [
        "print('harshal')"
      ]
    },
    {
      "cell_type": "code",
      "execution_count": null,
      "metadata": {
        "id": "TWsdq6_AYBDe"
      },
      "outputs": [],
      "source": [
        "print('harshal')"
      ]
    },
    {
      "cell_type": "code",
      "execution_count": null,
      "metadata": {
        "id": "7dRPqdroYBDe"
      },
      "outputs": [],
      "source": [
        "print('harshal')"
      ]
    },
    {
      "cell_type": "code",
      "execution_count": null,
      "metadata": {
        "id": "ABHBEo66YBDe"
      },
      "outputs": [],
      "source": [
        "print('harshal')"
      ]
    },
    {
      "cell_type": "code",
      "execution_count": null,
      "metadata": {
        "id": "TIcV0W1XYBDf"
      },
      "outputs": [],
      "source": [
        "print('harshal')"
      ]
    },
    {
      "cell_type": "code",
      "source": [],
      "metadata": {
        "id": "oa53O_SWYBDf"
      },
      "execution_count": null,
      "outputs": []
    },
    {
      "cell_type": "code",
      "execution_count": null,
      "metadata": {
        "id": "png9LWkrYBDf"
      },
      "outputs": [],
      "source": [
        "print('harshal')"
      ]
    },
    {
      "cell_type": "code",
      "execution_count": null,
      "metadata": {
        "id": "J403nY2YYBDf"
      },
      "outputs": [],
      "source": [
        "print('harshal')"
      ]
    },
    {
      "cell_type": "code",
      "execution_count": null,
      "metadata": {
        "id": "MFRdjDirYBDf"
      },
      "outputs": [],
      "source": [
        "print('harshal')"
      ]
    },
    {
      "cell_type": "code",
      "execution_count": null,
      "metadata": {
        "id": "zgoHJq5CYBDf"
      },
      "outputs": [],
      "source": [
        "print('harshal')"
      ]
    },
    {
      "cell_type": "code",
      "execution_count": null,
      "metadata": {
        "id": "J2XYpBc5YBDf"
      },
      "outputs": [],
      "source": [
        "print('harshal')"
      ]
    },
    {
      "cell_type": "code",
      "execution_count": null,
      "metadata": {
        "id": "yF_GJ4X6YBDf"
      },
      "outputs": [],
      "source": [
        "print('harshal')"
      ]
    },
    {
      "cell_type": "code",
      "execution_count": null,
      "metadata": {
        "id": "-0njsfexYBDf"
      },
      "outputs": [],
      "source": [
        "print('harshal')"
      ]
    },
    {
      "cell_type": "code",
      "execution_count": null,
      "metadata": {
        "id": "0ELsrSXbYBDg"
      },
      "outputs": [],
      "source": [
        "print('harshal')"
      ]
    },
    {
      "cell_type": "code",
      "execution_count": null,
      "metadata": {
        "id": "PzJixMv8YBDg"
      },
      "outputs": [],
      "source": [
        "print('harshal')"
      ]
    },
    {
      "cell_type": "code",
      "execution_count": null,
      "metadata": {
        "id": "x7jsImoZYBDg"
      },
      "outputs": [],
      "source": [
        "print('harshal')"
      ]
    },
    {
      "cell_type": "code",
      "execution_count": null,
      "metadata": {
        "id": "wzF2U0veYBDg"
      },
      "outputs": [],
      "source": [
        "print('harshal')"
      ]
    },
    {
      "cell_type": "code",
      "execution_count": null,
      "metadata": {
        "id": "zZ5IJezZYBDg"
      },
      "outputs": [],
      "source": [
        "print('harshal')"
      ]
    },
    {
      "cell_type": "code",
      "execution_count": null,
      "metadata": {
        "id": "DD4sweHxYBHJ"
      },
      "outputs": [],
      "source": [
        "print('harshal')"
      ]
    },
    {
      "cell_type": "code",
      "source": [],
      "metadata": {
        "id": "bw9pSExaYBHK"
      },
      "execution_count": null,
      "outputs": []
    },
    {
      "cell_type": "code",
      "execution_count": null,
      "metadata": {
        "id": "W1kG_-uDYBHK"
      },
      "outputs": [],
      "source": [
        "print('harshal')"
      ]
    },
    {
      "cell_type": "code",
      "execution_count": null,
      "metadata": {
        "id": "iUuriguIYBHK"
      },
      "outputs": [],
      "source": [
        "print('harshal')"
      ]
    },
    {
      "cell_type": "code",
      "execution_count": null,
      "metadata": {
        "id": "htBfsp4SYBHK"
      },
      "outputs": [],
      "source": [
        "print('harshal')"
      ]
    },
    {
      "cell_type": "code",
      "execution_count": null,
      "metadata": {
        "id": "t0n6zEM-YBHK"
      },
      "outputs": [],
      "source": [
        "print('harshal')"
      ]
    },
    {
      "cell_type": "code",
      "execution_count": null,
      "metadata": {
        "id": "JXHMFqHCYBHK"
      },
      "outputs": [],
      "source": [
        "print('harshal')"
      ]
    },
    {
      "cell_type": "code",
      "execution_count": null,
      "metadata": {
        "id": "rmxTeG3qYBHK"
      },
      "outputs": [],
      "source": [
        "print('harshal')"
      ]
    },
    {
      "cell_type": "code",
      "execution_count": null,
      "metadata": {
        "id": "V2o7kdVpYBHK"
      },
      "outputs": [],
      "source": [
        "print('harshal')"
      ]
    },
    {
      "cell_type": "code",
      "execution_count": null,
      "metadata": {
        "id": "8kSbYuglYBHL"
      },
      "outputs": [],
      "source": [
        "print('harshal')"
      ]
    },
    {
      "cell_type": "code",
      "execution_count": null,
      "metadata": {
        "id": "9cVpiDWwYBHL"
      },
      "outputs": [],
      "source": [
        "print('harshal')"
      ]
    },
    {
      "cell_type": "code",
      "source": [],
      "metadata": {
        "id": "75JzSMsIYBHL"
      },
      "execution_count": null,
      "outputs": []
    },
    {
      "cell_type": "code",
      "execution_count": null,
      "metadata": {
        "id": "keUqD5zuYBHL"
      },
      "outputs": [],
      "source": [
        "print('harshal')"
      ]
    },
    {
      "cell_type": "code",
      "execution_count": null,
      "metadata": {
        "id": "h4TE0PuhYBHL"
      },
      "outputs": [],
      "source": [
        "print('harshal')"
      ]
    },
    {
      "cell_type": "code",
      "execution_count": null,
      "metadata": {
        "id": "Z22rFU-mYBHL"
      },
      "outputs": [],
      "source": [
        "print('harshal')"
      ]
    },
    {
      "cell_type": "code",
      "execution_count": null,
      "metadata": {
        "id": "TkRBGgZBYBHL"
      },
      "outputs": [],
      "source": [
        "print('harshal')"
      ]
    },
    {
      "cell_type": "code",
      "execution_count": null,
      "metadata": {
        "id": "SR5d6H57YBHL"
      },
      "outputs": [],
      "source": [
        "print('harshal')"
      ]
    },
    {
      "cell_type": "code",
      "execution_count": null,
      "metadata": {
        "id": "D1KKPj7XYBHM"
      },
      "outputs": [],
      "source": [
        "print('harshal')"
      ]
    },
    {
      "cell_type": "code",
      "execution_count": null,
      "metadata": {
        "id": "1txT6srHYBHM"
      },
      "outputs": [],
      "source": [
        "print('harshal')"
      ]
    },
    {
      "cell_type": "code",
      "execution_count": null,
      "metadata": {
        "id": "2dpx-yw-YBHM"
      },
      "outputs": [],
      "source": [
        "print('harshal')"
      ]
    },
    {
      "cell_type": "code",
      "execution_count": null,
      "metadata": {
        "id": "jh_LdhTVYBHM"
      },
      "outputs": [],
      "source": [
        "print('harshal')"
      ]
    },
    {
      "cell_type": "code",
      "execution_count": null,
      "metadata": {
        "id": "K_obiuFmYBHM"
      },
      "outputs": [],
      "source": [
        "print('harshal')"
      ]
    },
    {
      "cell_type": "code",
      "execution_count": null,
      "metadata": {
        "id": "G-hqQ8SvYBHM"
      },
      "outputs": [],
      "source": [
        "print('harshal')"
      ]
    },
    {
      "cell_type": "code",
      "execution_count": null,
      "metadata": {
        "id": "U7Zyn5QxYBHM"
      },
      "outputs": [],
      "source": [
        "print('harshal')"
      ]
    },
    {
      "cell_type": "code",
      "execution_count": null,
      "metadata": {
        "id": "0kicHLlPYBK-"
      },
      "outputs": [],
      "source": [
        "print('harshal')"
      ]
    },
    {
      "cell_type": "code",
      "source": [],
      "metadata": {
        "id": "h-WkXu65YBK-"
      },
      "execution_count": null,
      "outputs": []
    },
    {
      "cell_type": "code",
      "execution_count": null,
      "metadata": {
        "id": "a2FDUYClYBK-"
      },
      "outputs": [],
      "source": [
        "print('harshal')"
      ]
    },
    {
      "cell_type": "code",
      "execution_count": null,
      "metadata": {
        "id": "VxNKJURVYBK_"
      },
      "outputs": [],
      "source": [
        "print('harshal')"
      ]
    },
    {
      "cell_type": "code",
      "execution_count": null,
      "metadata": {
        "id": "a5AUdJwjYBK_"
      },
      "outputs": [],
      "source": [
        "print('harshal')"
      ]
    },
    {
      "cell_type": "code",
      "execution_count": null,
      "metadata": {
        "id": "8GGiGoQbYBLB"
      },
      "outputs": [],
      "source": [
        "print('harshal')"
      ]
    },
    {
      "cell_type": "code",
      "execution_count": null,
      "metadata": {
        "id": "5M7v7K4FYBLB"
      },
      "outputs": [],
      "source": [
        "print('harshal')"
      ]
    },
    {
      "cell_type": "code",
      "execution_count": null,
      "metadata": {
        "id": "6ZRIT7rYYBLC"
      },
      "outputs": [],
      "source": [
        "print('harshal')"
      ]
    },
    {
      "cell_type": "code",
      "execution_count": null,
      "metadata": {
        "id": "6K3Z4KCYYBLC"
      },
      "outputs": [],
      "source": [
        "print('harshal')"
      ]
    },
    {
      "cell_type": "code",
      "execution_count": null,
      "metadata": {
        "id": "ykyE1FULYBLC"
      },
      "outputs": [],
      "source": [
        "print('harshal')"
      ]
    },
    {
      "cell_type": "code",
      "execution_count": null,
      "metadata": {
        "id": "OayPNUN6YBLC"
      },
      "outputs": [],
      "source": [
        "print('harshal')"
      ]
    },
    {
      "cell_type": "code",
      "source": [],
      "metadata": {
        "id": "HZP3kUYoYBLD"
      },
      "execution_count": null,
      "outputs": []
    },
    {
      "cell_type": "code",
      "execution_count": null,
      "metadata": {
        "id": "DOw-7ofzYBLD"
      },
      "outputs": [],
      "source": [
        "print('harshal')"
      ]
    },
    {
      "cell_type": "code",
      "execution_count": null,
      "metadata": {
        "id": "g16G3BGuYBLD"
      },
      "outputs": [],
      "source": [
        "print('harshal')"
      ]
    },
    {
      "cell_type": "code",
      "execution_count": null,
      "metadata": {
        "id": "t5jYksejYBLD"
      },
      "outputs": [],
      "source": [
        "print('harshal')"
      ]
    },
    {
      "cell_type": "code",
      "execution_count": null,
      "metadata": {
        "id": "vv-ylAxuYBLD"
      },
      "outputs": [],
      "source": [
        "print('harshal')"
      ]
    },
    {
      "cell_type": "code",
      "execution_count": null,
      "metadata": {
        "id": "08ZgISPyYBLD"
      },
      "outputs": [],
      "source": [
        "print('harshal')"
      ]
    },
    {
      "cell_type": "code",
      "execution_count": null,
      "metadata": {
        "id": "dy6SZVHRYBLD"
      },
      "outputs": [],
      "source": [
        "print('harshal')"
      ]
    },
    {
      "cell_type": "code",
      "execution_count": null,
      "metadata": {
        "id": "fWX9UE7jYBLD"
      },
      "outputs": [],
      "source": [
        "print('harshal')"
      ]
    },
    {
      "cell_type": "code",
      "execution_count": null,
      "metadata": {
        "id": "I5nEh31SYBLD"
      },
      "outputs": [],
      "source": [
        "print('harshal')"
      ]
    },
    {
      "cell_type": "code",
      "execution_count": null,
      "metadata": {
        "id": "5Kpnsr4wYBLE"
      },
      "outputs": [],
      "source": [
        "print('harshal')"
      ]
    },
    {
      "cell_type": "code",
      "execution_count": null,
      "metadata": {
        "id": "OklENySnYBLE"
      },
      "outputs": [],
      "source": [
        "print('harshal')"
      ]
    },
    {
      "cell_type": "code",
      "execution_count": null,
      "metadata": {
        "id": "PhzJGDh-YBLE"
      },
      "outputs": [],
      "source": [
        "print('harshal')"
      ]
    },
    {
      "cell_type": "code",
      "execution_count": null,
      "metadata": {
        "id": "ggsTWXDXYBLE"
      },
      "outputs": [],
      "source": [
        "print('harshal')"
      ]
    }
  ]
}