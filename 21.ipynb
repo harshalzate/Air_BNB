{
  "nbformat": 4,
  "nbformat_minor": 0,
  "metadata": {
    "colab": {
      "private_outputs": true,
      "provenance": [],
      "authorship_tag": "ABX9TyNPySWe8LBnI+XdJiWGkR4+",
      "include_colab_link": true
    },
    "kernelspec": {
      "name": "python3",
      "display_name": "Python 3"
    },
    "language_info": {
      "name": "python"
    }
  },
  "cells": [
    {
      "cell_type": "markdown",
      "metadata": {
        "id": "view-in-github",
        "colab_type": "text"
      },
      "source": [
        "<a href=\"https://colab.research.google.com/github/harshalzate/Air_BNB/blob/main/21.ipynb\" target=\"_parent\"><img src=\"https://colab.research.google.com/assets/colab-badge.svg\" alt=\"Open In Colab\"/></a>"
      ]
    },
    {
      "cell_type": "code",
      "execution_count": null,
      "metadata": {
        "id": "RiaOufORXomG"
      },
      "outputs": [],
      "source": [
        "print('harshal')"
      ]
    },
    {
      "cell_type": "code",
      "source": [],
      "metadata": {
        "id": "aRmDKXttXqvo"
      },
      "execution_count": null,
      "outputs": []
    },
    {
      "cell_type": "code",
      "execution_count": null,
      "metadata": {
        "id": "l-Ycl9NuX0f-"
      },
      "outputs": [],
      "source": [
        "print('harshal')"
      ]
    },
    {
      "cell_type": "code",
      "execution_count": null,
      "metadata": {
        "id": "3UdMBDeFX0t_"
      },
      "outputs": [],
      "source": [
        "print('harshal')"
      ]
    },
    {
      "cell_type": "code",
      "execution_count": null,
      "metadata": {
        "id": "6lwXVJEeX01d"
      },
      "outputs": [],
      "source": [
        "print('harshal')"
      ]
    },
    {
      "cell_type": "code",
      "execution_count": null,
      "metadata": {
        "id": "d8DFsyLoX07n"
      },
      "outputs": [],
      "source": [
        "print('harshal')"
      ]
    },
    {
      "cell_type": "code",
      "execution_count": null,
      "metadata": {
        "id": "aHaFYZ3nX1BJ"
      },
      "outputs": [],
      "source": [
        "print('harshal')"
      ]
    },
    {
      "cell_type": "code",
      "execution_count": null,
      "metadata": {
        "id": "vlo6XsWQX1FP"
      },
      "outputs": [],
      "source": [
        "print('harshal')"
      ]
    },
    {
      "cell_type": "code",
      "execution_count": null,
      "metadata": {
        "id": "i2ZE22jPX1IT"
      },
      "outputs": [],
      "source": [
        "print('harshal')"
      ]
    },
    {
      "cell_type": "code",
      "execution_count": null,
      "metadata": {
        "id": "GNDFqAn4X1LL"
      },
      "outputs": [],
      "source": [
        "print('harshal')"
      ]
    },
    {
      "cell_type": "code",
      "execution_count": null,
      "metadata": {
        "id": "OWwvdNyWX1N4"
      },
      "outputs": [],
      "source": [
        "print('harshal')"
      ]
    },
    {
      "cell_type": "code",
      "execution_count": null,
      "metadata": {
        "id": "JJ1aaM85X1Qz"
      },
      "outputs": [],
      "source": [
        "print('harshal')"
      ]
    },
    {
      "cell_type": "code",
      "execution_count": null,
      "metadata": {
        "id": "rF_uwng-X1Th"
      },
      "outputs": [],
      "source": [
        "print('harshal')"
      ]
    },
    {
      "cell_type": "code",
      "execution_count": null,
      "metadata": {
        "id": "A77TGaO2X1WN"
      },
      "outputs": [],
      "source": [
        "print('harshal')"
      ]
    }
  ]
}